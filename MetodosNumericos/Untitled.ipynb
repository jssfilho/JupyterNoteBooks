{
 "cells": [
  {
   "cell_type": "markdown",
   "metadata": {},
   "source": [
    "$\\qquad$Com o aumento do volume  de dados temos a necessidade de processa-los cada vez com menor custo computacional, uma alternativa  para solução desse problema é a redução de dimensões. Redução de dimensão refere-se ao processo de conversão de um conjunto de dados que têm várias dimensões em dados com menos dimensões, assegurando que ele transmite informações semelhantes de forma concisa. Estas técnicas são normalmente utilizadas na resolução de problemas para obter melhores recursos para uma tarefa de classificação ou de regressão e portanto, é um passo importante para o reconhecimento de padrões e aprendizagem de maquina.Um conjunto de dados pode  ser representado por uma matriz em que cada linha de elementos é uma variável e cada coluna uma amostra, dado isto, podemos usar várias técnicas para a redução.\n",
    "\n",
    "- Segue abaixo exemplos de técnicas:\n",
    "<ol>\n",
    "<li>- Valores nulos: Busca eliminar os valores nulos;</li>\n",
    "<li>- Baixa Variância: Busca eliminar os valores com baixa taxa de variancia;</li>\n",
    "<li>- Árvores de Decisão: Busca eliminar os elementos com varios parametros(valores nulos, taxa varição, entre outros);</li> \n",
    "<li>- Random Forest: Busca eliminar baseado em amostras aleatorias;</li>\n",
    "<li>- Alta Correlação: Busca eliminar variaveis com alto grau de correlações ;</li>\n",
    "<li>- Backward Feature Elimination: Baseado na eliminação de variaveis que produzem pouco impacto no SSR;</li>\n",
    "<li>- Análise de fator: Diminui a quantidade de variaveis por agrupamento baseado em suas relações.</li><br/>\n",
    "</ol>\t\n",
    "    Por ultimo tem a análise de componentes principais (PCA) e uma das aplicações mais comuns desta técnica é a de processamento de imagem."
   ]
  },
  {
   "cell_type": "markdown",
   "metadata": {},
   "source": [
    "### Referencias"
   ]
  },
  {
   "cell_type": "markdown",
   "metadata": {},
   "source": [
    "https://www.vooo.pro/insights/guia-de-aprendizado-para-iniciantes-em-tecnicas-de-reducao-de-dimensoes-dimension-reduction/<br/>\n",
    "https://www.learnopencv.com/principal-component-analysis/<br/>"
   ]
  }
 ],
 "metadata": {
  "kernelspec": {
   "display_name": "Python 3",
   "language": "python",
   "name": "python3"
  },
  "language_info": {
   "codemirror_mode": {
    "name": "ipython",
    "version": 3
   },
   "file_extension": ".py",
   "mimetype": "text/x-python",
   "name": "python",
   "nbconvert_exporter": "python",
   "pygments_lexer": "ipython3",
   "version": "3.6.5"
  }
 },
 "nbformat": 4,
 "nbformat_minor": 2
}
