{
 "cells": [
  {
   "cell_type": "code",
   "execution_count": 2,
   "metadata": {},
   "outputs": [],
   "source": [
    "import pandas as pd\n",
    "import numpy as np\n",
    "import scipy.linalg as sla\n",
    "\n",
    "%matplotlib inline\n",
    "import matplotlib.pyplot as plt"
   ]
  },
  {
   "cell_type": "markdown",
   "metadata": {},
   "source": [
    "#### Exercicio 1"
   ]
  },
  {
   "cell_type": "code",
   "execution_count": 7,
   "metadata": {},
   "outputs": [],
   "source": [
    "def elimin_gaussiana(a,b,imp = False, norma='inf'):\n",
    "     #matriz estendida Me\n",
    "    b = np.mat(b).T\n",
    "    Me = np.concatenate((a,b), axis=1)\n",
    "    if imp: print('Matriz estendida: \\n',Me,'\\n\\n')\n",
    "    if imp: print('='*80)\n",
    "    for j in range(Me.shape[-1] - 2): #coluna\n",
    "        if imp: print('Operação na coluna', j)\n",
    "        if imp: print('='*80, '\\n\\n')\n",
    "        for i in range(j+1, Me.shape[0]): #linha\n",
    "            if (Me[j,j] != 0):\n",
    "                Me[i] = Me[i] - (Me[i,j]/Me[j,j])*Me[j] #operações com cada linha\n",
    "            else:\n",
    "                Me[i] = Me[i] - (0)*Me[j]\n",
    "            if imp: print('Operação na linha', i, ':',Me[i], '\\n')\n",
    "            if imp: print('Matriz escalonando: \\n',Me,'\\n')\n",
    "        if imp: print('='*80)\n",
    "    if imp: print('\\nMatriz escalonada: \\n',Me,'\\n')\n",
    "    Matriz_A = np.delete(Me, -1, axis=1) #matriz de coeficientes escalonada\n",
    "    Vetor_b = Me[:,-1] #matriz de termos independentes escalonada\n",
    "    Vetor_x = sla.solve_triangular(Matriz_A, Vetor_b) # solução do sistema escalonado\n",
    "    if imp: print('='*80,'\\n\\nSolução do sistema: \\n', Vetor_x)\n",
    "    #verificação do erro do sistema\n",
    "    if norma is 'inf': norma = np.inf\n",
    "    if norma is '-inf': norma = -np.inf\n",
    "    Erro = sla.norm(b - a.dot(Vetor_x),ord = norma)\n",
    "    return (Matriz_A, Vetor_b, Vetor_x, Erro)"
   ]
  },
  {
   "cell_type": "code",
   "execution_count": 11,
   "metadata": {},
   "outputs": [
    {
     "data": {
      "text/plain": [
       "(matrix([[ 2,  3, -1],\n",
       "         [ 0, -2, -1],\n",
       "         [ 0,  0,  5]]), matrix([[ 5],\n",
       "         [-7],\n",
       "         [15]]), array([[1.],\n",
       "        [2.],\n",
       "        [3.]]), 0.0)"
      ]
     },
     "execution_count": 11,
     "metadata": {},
     "output_type": "execute_result"
    }
   ],
   "source": [
    "a = np.array([[2,3,-1],[4,4,-3],[2,-3,1]])\n",
    "b = np.array([5,3,-1])\n",
    "M = elimin_gaussiana(a,b)\n",
    "M"
   ]
  },
  {
   "cell_type": "markdown",
   "metadata": {},
   "source": [
    "#### Exercicio 2"
   ]
  },
  {
   "cell_type": "markdown",
   "metadata": {},
   "source": [
    "O erro pode ser medido por $||ax-b|| = erro$, uma vez que um sistema linear é sempre da seguinte forma $ax = b$, onde havendo solução (determinada ou não) $ax-b = 0$. O erro em questão ocorre pois o pivô passa a ser 0(causando uma divisão por 0)."
   ]
  },
  {
   "cell_type": "markdown",
   "metadata": {},
   "source": [
    "#### Exercicio 3"
   ]
  },
  {
   "cell_type": "code",
   "execution_count": 22,
   "metadata": {},
   "outputs": [
    {
     "data": {
      "text/plain": [
       "array([1., 1., 1.])"
      ]
     },
     "execution_count": 22,
     "metadata": {},
     "output_type": "execute_result"
    }
   ],
   "source": [
    "A = np.array([[1,4,52],[27,110,-3],[22,2,14]])\n",
    "b = np.array([57,134,38])\n",
    "sla.solve(A,b)"
   ]
  },
  {
   "cell_type": "markdown",
   "metadata": {},
   "source": [
    "#### Exercicio 4"
   ]
  },
  {
   "cell_type": "code",
   "execution_count": 8,
   "metadata": {},
   "outputs": [],
   "source": [
    "def  elim_gaussiana2(A, b, pivotamento=None, imp=False, norma='inf'):\n",
    "    b = np.mat(b).T\n",
    "    me = np.array(np.concatenate((A, b), axis=1))\n",
    "    n = len(me)\n",
    "\n",
    "    if imp:\n",
    "        print('Matriz estendida:\\n{}\\n'.format(me))\n",
    "    if imp:\n",
    "        print('=' * 80)\n",
    "\n",
    "    # Eliminação\n",
    "    for k in range(n - 1):\n",
    "        if pivotamento:\n",
    "            # Pivô\n",
    "            maxindex = abs(me[k:, k]).argmax() + k\n",
    "            if me[maxindex, k] == 0:\n",
    "                raise ValueError(\"Matriz é singular.\")\n",
    "            # Trocas\n",
    "            if maxindex != k:\n",
    "                me[[k, maxindex]] = me[[maxindex, k]]\n",
    "\n",
    "                if imp:\n",
    "                    print(\"Troca entre as linhas {} e {}\".format(k, maxindex))\n",
    "                if imp:\n",
    "                    print('Matriz escalonando:\\n{}\\n'.format(me))\n",
    "        else:\n",
    "            if me[k, k] == 0:\n",
    "                raise ValueError(\"Pivô é zero. Tente com a variável \\'pivoteamento\\' como True.\")\n",
    "\n",
    "        for linha in range(k + 1, n):\n",
    "            mult = me[linha, k] / me[k, k]\n",
    "            me[linha, k:] = me[linha, k:] - mult * me[k, k:]\n",
    "            if imp:\n",
    "                print('Operação na linha {}: {}'.format(linha, me[linha]))\n",
    "            if imp:\n",
    "                print('Matriz escalonando: \\n {} \\n'.format(me))\n",
    "\n",
    "    # Retrosubstituição\n",
    "\n",
    "    if imp:\n",
    "        print('Matriz escalonada:\\n{}\\n'.format(me))\n",
    "\n",
    "    matriz_a = me[:, :-1]  # matriz de coeficientes escalonada\n",
    "    vetor_b = me[:, -1]  # matriz de termos independentes escalonada\n",
    "    vetor_x = sla.solve_triangular(matriz_a, vetor_b)  # solução do sistema escalonado\n",
    "\n",
    "    if imp:\n",
    "        print('=' * 80, '\\n\\nSolução do sistema: \\n', vetor_x)\n",
    "\n",
    "    # Verificação do erro do sistema\n",
    "    if norma is 'inf':\n",
    "        norma = np.inf\n",
    "    if norma is '-inf':\n",
    "        norma = -np.inf\n",
    "    erro = sla.norm(b - A.dot(vetor_x), ord=norma)\n",
    "\n",
    "    return matriz_a, vetor_b, vetor_x, erro"
   ]
  },
  {
   "cell_type": "code",
   "execution_count": 23,
   "metadata": {},
   "outputs": [
    {
     "data": {
      "text/plain": [
       "(array([[ 27.        , 110.        ,  -3.        ],\n",
       "        [  0.        , -87.62962963,  16.44444444],\n",
       "        [  0.        ,   0.        ,  52.09721048]]),\n",
       " array([134.        , -71.18518519,  52.09721048]),\n",
       " array([1., 1., 1.]),\n",
       " 173.0)"
      ]
     },
     "execution_count": 23,
     "metadata": {},
     "output_type": "execute_result"
    }
   ],
   "source": [
    "A= np.array([[1., 4, 52], [27, 110, -3], [22, 2, 14]])\n",
    "b = np.array([57., 134, 38])\n",
    "elim_gaussiana2(A, b, pivotamento=True)"
   ]
  },
  {
   "cell_type": "markdown",
   "metadata": {},
   "source": [
    "#### Exercicio 5"
   ]
  },
  {
   "cell_type": "code",
   "execution_count": 31,
   "metadata": {},
   "outputs": [
    {
     "data": {
      "text/html": [
       "<div>\n",
       "<style scoped>\n",
       "    .dataframe tbody tr th:only-of-type {\n",
       "        vertical-align: middle;\n",
       "    }\n",
       "\n",
       "    .dataframe tbody tr th {\n",
       "        vertical-align: top;\n",
       "    }\n",
       "\n",
       "    .dataframe thead th {\n",
       "        text-align: right;\n",
       "    }\n",
       "</style>\n",
       "<table border=\"1\" class=\"dataframe\">\n",
       "  <thead>\n",
       "    <tr style=\"text-align: right;\">\n",
       "      <th></th>\n",
       "      <th>Pivoteamento=True</th>\n",
       "      <th>Pivoteamento=False</th>\n",
       "      <th>e</th>\n",
       "    </tr>\n",
       "  </thead>\n",
       "  <tbody>\n",
       "    <tr>\n",
       "      <th>0</th>\n",
       "      <td>[0.3555555555555555, 0.2222222222222222]</td>\n",
       "      <td>[0.3555555555555555, 0.2222222222222222]</td>\n",
       "      <td>1.000000e+01</td>\n",
       "    </tr>\n",
       "    <tr>\n",
       "      <th>1</th>\n",
       "      <td>[2.0, 1.0]</td>\n",
       "      <td>[2.0, 1.0]</td>\n",
       "      <td>1.000000e+00</td>\n",
       "    </tr>\n",
       "    <tr>\n",
       "      <th>2</th>\n",
       "      <td>[2.814070351758794, 1.8592964824120604]</td>\n",
       "      <td>[2.814070351758793, 1.8592964824120604]</td>\n",
       "      <td>1.000000e-01</td>\n",
       "    </tr>\n",
       "    <tr>\n",
       "      <th>3</th>\n",
       "      <td>[2.9801490074503727, 1.9850992549627482]</td>\n",
       "      <td>[2.9801490074504056, 1.985099254962748]</td>\n",
       "      <td>1.000000e-02</td>\n",
       "    </tr>\n",
       "    <tr>\n",
       "      <th>4</th>\n",
       "      <td>[2.9980014990007495, 1.9985009992504994]</td>\n",
       "      <td>[2.9980014990007575, 1.9985009992504996]</td>\n",
       "      <td>1.000000e-03</td>\n",
       "    </tr>\n",
       "    <tr>\n",
       "      <th>5</th>\n",
       "      <td>[2.9998000149990003, 1.99985000999925]</td>\n",
       "      <td>[2.9998000149955573, 1.9998500099992502]</td>\n",
       "      <td>1.000000e-04</td>\n",
       "    </tr>\n",
       "    <tr>\n",
       "      <th>6</th>\n",
       "      <td>[2.999980000149999, 1.9999850000999992]</td>\n",
       "      <td>[2.999980000151225, 1.9999850000999992]</td>\n",
       "      <td>1.000000e-05</td>\n",
       "    </tr>\n",
       "    <tr>\n",
       "      <th>7</th>\n",
       "      <td>[2.9999980000015, 1.999998500001]</td>\n",
       "      <td>[2.9999979997974435, 1.999998500001]</td>\n",
       "      <td>1.000000e-06</td>\n",
       "    </tr>\n",
       "    <tr>\n",
       "      <th>8</th>\n",
       "      <td>[2.999999800000015, 1.99999985000001]</td>\n",
       "      <td>[2.999999799691011, 1.99999985000001]</td>\n",
       "      <td>1.000000e-07</td>\n",
       "    </tr>\n",
       "    <tr>\n",
       "      <th>9</th>\n",
       "      <td>[2.99999998, 1.999999985]</td>\n",
       "      <td>[2.999999981767587, 1.999999985]</td>\n",
       "      <td>1.000000e-08</td>\n",
       "    </tr>\n",
       "    <tr>\n",
       "      <th>10</th>\n",
       "      <td>[2.999999998, 1.9999999985]</td>\n",
       "      <td>[2.999999804131903, 1.9999999985]</td>\n",
       "      <td>1.000000e-09</td>\n",
       "    </tr>\n",
       "    <tr>\n",
       "      <th>11</th>\n",
       "      <td>[2.9999999998, 1.99999999985]</td>\n",
       "      <td>[3.000000248221113, 1.99999999985]</td>\n",
       "      <td>1.000000e-10</td>\n",
       "    </tr>\n",
       "    <tr>\n",
       "      <th>12</th>\n",
       "      <td>[2.99999999998, 1.999999999985]</td>\n",
       "      <td>[3.000000248221113, 1.999999999985]</td>\n",
       "      <td>1.000000e-11</td>\n",
       "    </tr>\n",
       "    <tr>\n",
       "      <th>13</th>\n",
       "      <td>[2.999999999998, 1.9999999999985]</td>\n",
       "      <td>[2.999822612537173, 1.9999999999985]</td>\n",
       "      <td>1.000000e-12</td>\n",
       "    </tr>\n",
       "    <tr>\n",
       "      <th>14</th>\n",
       "      <td>[2.9999999999998, 1.99999999999985]</td>\n",
       "      <td>[3.0020430585864233, 1.99999999999985]</td>\n",
       "      <td>1.000000e-13</td>\n",
       "    </tr>\n",
       "    <tr>\n",
       "      <th>15</th>\n",
       "      <td>[2.99999999999998, 1.999999999999985]</td>\n",
       "      <td>[3.019806626980426, 1.999999999999985]</td>\n",
       "      <td>1.000000e-14</td>\n",
       "    </tr>\n",
       "    <tr>\n",
       "      <th>16</th>\n",
       "      <td>[2.999999999999998, 1.9999999999999984]</td>\n",
       "      <td>[3.108624468950438, 1.9999999999999984]</td>\n",
       "      <td>1.000000e-15</td>\n",
       "    </tr>\n",
       "    <tr>\n",
       "      <th>17</th>\n",
       "      <td>[3.0, 1.9999999999999998]</td>\n",
       "      <td>[0.0, 2.0]</td>\n",
       "      <td>1.000000e-16</td>\n",
       "    </tr>\n",
       "    <tr>\n",
       "      <th>18</th>\n",
       "      <td>[3.0, 2.0]</td>\n",
       "      <td>[0.0, 2.0]</td>\n",
       "      <td>1.000000e-17</td>\n",
       "    </tr>\n",
       "    <tr>\n",
       "      <th>19</th>\n",
       "      <td>[3.0, 2.0]</td>\n",
       "      <td>[0.0, 2.0]</td>\n",
       "      <td>1.000000e-18</td>\n",
       "    </tr>\n",
       "    <tr>\n",
       "      <th>20</th>\n",
       "      <td>[3.0, 2.0]</td>\n",
       "      <td>[0.0, 2.0]</td>\n",
       "      <td>1.000000e-19</td>\n",
       "    </tr>\n",
       "    <tr>\n",
       "      <th>21</th>\n",
       "      <td>[3.0, 2.0]</td>\n",
       "      <td>[0.0, 2.0]</td>\n",
       "      <td>1.000000e-20</td>\n",
       "    </tr>\n",
       "    <tr>\n",
       "      <th>22</th>\n",
       "      <td>[3.0, 2.0]</td>\n",
       "      <td>[0.0, 2.0]</td>\n",
       "      <td>1.000000e-21</td>\n",
       "    </tr>\n",
       "    <tr>\n",
       "      <th>23</th>\n",
       "      <td>[3.0, 2.0]</td>\n",
       "      <td>[0.0, 2.0]</td>\n",
       "      <td>1.000000e-22</td>\n",
       "    </tr>\n",
       "    <tr>\n",
       "      <th>24</th>\n",
       "      <td>[3.0, 2.0]</td>\n",
       "      <td>[0.0, 2.0]</td>\n",
       "      <td>1.000000e-23</td>\n",
       "    </tr>\n",
       "    <tr>\n",
       "      <th>25</th>\n",
       "      <td>[3.0, 2.0]</td>\n",
       "      <td>[0.0, 2.0]</td>\n",
       "      <td>1.000000e-24</td>\n",
       "    </tr>\n",
       "    <tr>\n",
       "      <th>26</th>\n",
       "      <td>[3.0, 2.0]</td>\n",
       "      <td>[0.0, 2.0]</td>\n",
       "      <td>1.000000e-25</td>\n",
       "    </tr>\n",
       "    <tr>\n",
       "      <th>27</th>\n",
       "      <td>[3.0, 2.0]</td>\n",
       "      <td>[0.0, 2.0]</td>\n",
       "      <td>1.000000e-26</td>\n",
       "    </tr>\n",
       "    <tr>\n",
       "      <th>28</th>\n",
       "      <td>[3.0, 2.0]</td>\n",
       "      <td>[0.0, 2.0]</td>\n",
       "      <td>1.000000e-27</td>\n",
       "    </tr>\n",
       "    <tr>\n",
       "      <th>29</th>\n",
       "      <td>[3.0, 2.0]</td>\n",
       "      <td>[0.0, 2.0]</td>\n",
       "      <td>1.000000e-28</td>\n",
       "    </tr>\n",
       "    <tr>\n",
       "      <th>...</th>\n",
       "      <td>...</td>\n",
       "      <td>...</td>\n",
       "      <td>...</td>\n",
       "    </tr>\n",
       "    <tr>\n",
       "      <th>70</th>\n",
       "      <td>[3.0, 2.0]</td>\n",
       "      <td>[0.0, 2.0]</td>\n",
       "      <td>1.000000e-69</td>\n",
       "    </tr>\n",
       "    <tr>\n",
       "      <th>71</th>\n",
       "      <td>[3.0, 2.0]</td>\n",
       "      <td>[0.0, 2.0]</td>\n",
       "      <td>1.000000e-70</td>\n",
       "    </tr>\n",
       "    <tr>\n",
       "      <th>72</th>\n",
       "      <td>[3.0, 2.0]</td>\n",
       "      <td>[0.0, 2.0]</td>\n",
       "      <td>1.000000e-71</td>\n",
       "    </tr>\n",
       "    <tr>\n",
       "      <th>73</th>\n",
       "      <td>[3.0, 2.0]</td>\n",
       "      <td>[0.0, 2.0]</td>\n",
       "      <td>1.000000e-72</td>\n",
       "    </tr>\n",
       "    <tr>\n",
       "      <th>74</th>\n",
       "      <td>[3.0, 2.0]</td>\n",
       "      <td>[0.0, 2.0]</td>\n",
       "      <td>1.000000e-73</td>\n",
       "    </tr>\n",
       "    <tr>\n",
       "      <th>75</th>\n",
       "      <td>[3.0, 2.0]</td>\n",
       "      <td>[0.0, 2.0]</td>\n",
       "      <td>1.000000e-74</td>\n",
       "    </tr>\n",
       "    <tr>\n",
       "      <th>76</th>\n",
       "      <td>[3.0, 2.0]</td>\n",
       "      <td>[0.0, 2.0]</td>\n",
       "      <td>1.000000e-75</td>\n",
       "    </tr>\n",
       "    <tr>\n",
       "      <th>77</th>\n",
       "      <td>[3.0, 2.0]</td>\n",
       "      <td>[0.0, 2.0]</td>\n",
       "      <td>1.000000e-76</td>\n",
       "    </tr>\n",
       "    <tr>\n",
       "      <th>78</th>\n",
       "      <td>[3.0, 2.0]</td>\n",
       "      <td>[0.0, 2.0]</td>\n",
       "      <td>1.000000e-77</td>\n",
       "    </tr>\n",
       "    <tr>\n",
       "      <th>79</th>\n",
       "      <td>[3.0, 2.0]</td>\n",
       "      <td>[0.0, 2.0]</td>\n",
       "      <td>1.000000e-78</td>\n",
       "    </tr>\n",
       "    <tr>\n",
       "      <th>80</th>\n",
       "      <td>[3.0, 2.0]</td>\n",
       "      <td>[0.0, 2.0]</td>\n",
       "      <td>1.000000e-79</td>\n",
       "    </tr>\n",
       "    <tr>\n",
       "      <th>81</th>\n",
       "      <td>[3.0, 2.0]</td>\n",
       "      <td>[0.0, 2.0]</td>\n",
       "      <td>1.000000e-80</td>\n",
       "    </tr>\n",
       "    <tr>\n",
       "      <th>82</th>\n",
       "      <td>[3.0, 2.0]</td>\n",
       "      <td>[0.0, 2.0]</td>\n",
       "      <td>1.000000e-81</td>\n",
       "    </tr>\n",
       "    <tr>\n",
       "      <th>83</th>\n",
       "      <td>[3.0, 2.0]</td>\n",
       "      <td>[0.0, 2.0]</td>\n",
       "      <td>1.000000e-82</td>\n",
       "    </tr>\n",
       "    <tr>\n",
       "      <th>84</th>\n",
       "      <td>[3.0, 2.0]</td>\n",
       "      <td>[0.0, 2.0]</td>\n",
       "      <td>1.000000e-83</td>\n",
       "    </tr>\n",
       "    <tr>\n",
       "      <th>85</th>\n",
       "      <td>[3.0, 2.0]</td>\n",
       "      <td>[0.0, 2.0]</td>\n",
       "      <td>1.000000e-84</td>\n",
       "    </tr>\n",
       "    <tr>\n",
       "      <th>86</th>\n",
       "      <td>[3.0, 2.0]</td>\n",
       "      <td>[0.0, 2.0]</td>\n",
       "      <td>1.000000e-85</td>\n",
       "    </tr>\n",
       "    <tr>\n",
       "      <th>87</th>\n",
       "      <td>[3.0, 2.0]</td>\n",
       "      <td>[0.0, 2.0]</td>\n",
       "      <td>1.000000e-86</td>\n",
       "    </tr>\n",
       "    <tr>\n",
       "      <th>88</th>\n",
       "      <td>[3.0, 2.0]</td>\n",
       "      <td>[0.0, 2.0]</td>\n",
       "      <td>1.000000e-87</td>\n",
       "    </tr>\n",
       "    <tr>\n",
       "      <th>89</th>\n",
       "      <td>[3.0, 2.0]</td>\n",
       "      <td>[0.0, 2.0]</td>\n",
       "      <td>1.000000e-88</td>\n",
       "    </tr>\n",
       "    <tr>\n",
       "      <th>90</th>\n",
       "      <td>[3.0, 2.0]</td>\n",
       "      <td>[0.0, 2.0]</td>\n",
       "      <td>1.000000e-89</td>\n",
       "    </tr>\n",
       "    <tr>\n",
       "      <th>91</th>\n",
       "      <td>[3.0, 2.0]</td>\n",
       "      <td>[0.0, 2.0]</td>\n",
       "      <td>1.000000e-90</td>\n",
       "    </tr>\n",
       "    <tr>\n",
       "      <th>92</th>\n",
       "      <td>[3.0, 2.0]</td>\n",
       "      <td>[0.0, 2.0]</td>\n",
       "      <td>1.000000e-91</td>\n",
       "    </tr>\n",
       "    <tr>\n",
       "      <th>93</th>\n",
       "      <td>[3.0, 2.0]</td>\n",
       "      <td>[0.0, 2.0]</td>\n",
       "      <td>1.000000e-92</td>\n",
       "    </tr>\n",
       "    <tr>\n",
       "      <th>94</th>\n",
       "      <td>[3.0, 2.0]</td>\n",
       "      <td>[0.0, 2.0]</td>\n",
       "      <td>1.000000e-93</td>\n",
       "    </tr>\n",
       "    <tr>\n",
       "      <th>95</th>\n",
       "      <td>[3.0, 2.0]</td>\n",
       "      <td>[0.0, 2.0]</td>\n",
       "      <td>1.000000e-94</td>\n",
       "    </tr>\n",
       "    <tr>\n",
       "      <th>96</th>\n",
       "      <td>[3.0, 2.0]</td>\n",
       "      <td>[0.0, 2.0]</td>\n",
       "      <td>1.000000e-95</td>\n",
       "    </tr>\n",
       "    <tr>\n",
       "      <th>97</th>\n",
       "      <td>[3.0, 2.0]</td>\n",
       "      <td>[0.0, 2.0]</td>\n",
       "      <td>1.000000e-96</td>\n",
       "    </tr>\n",
       "    <tr>\n",
       "      <th>98</th>\n",
       "      <td>[3.0, 2.0]</td>\n",
       "      <td>[0.0, 2.0]</td>\n",
       "      <td>1.000000e-97</td>\n",
       "    </tr>\n",
       "    <tr>\n",
       "      <th>99</th>\n",
       "      <td>[3.0, 2.0]</td>\n",
       "      <td>[0.0, 2.0]</td>\n",
       "      <td>1.000000e-98</td>\n",
       "    </tr>\n",
       "  </tbody>\n",
       "</table>\n",
       "<p>100 rows × 3 columns</p>\n",
       "</div>"
      ],
      "text/plain": [
       "                           Pivoteamento=True  \\\n",
       "0   [0.3555555555555555, 0.2222222222222222]   \n",
       "1                                 [2.0, 1.0]   \n",
       "2    [2.814070351758794, 1.8592964824120604]   \n",
       "3   [2.9801490074503727, 1.9850992549627482]   \n",
       "4   [2.9980014990007495, 1.9985009992504994]   \n",
       "5     [2.9998000149990003, 1.99985000999925]   \n",
       "6    [2.999980000149999, 1.9999850000999992]   \n",
       "7          [2.9999980000015, 1.999998500001]   \n",
       "8      [2.999999800000015, 1.99999985000001]   \n",
       "9                  [2.99999998, 1.999999985]   \n",
       "10               [2.999999998, 1.9999999985]   \n",
       "11             [2.9999999998, 1.99999999985]   \n",
       "12           [2.99999999998, 1.999999999985]   \n",
       "13         [2.999999999998, 1.9999999999985]   \n",
       "14       [2.9999999999998, 1.99999999999985]   \n",
       "15     [2.99999999999998, 1.999999999999985]   \n",
       "16   [2.999999999999998, 1.9999999999999984]   \n",
       "17                 [3.0, 1.9999999999999998]   \n",
       "18                                [3.0, 2.0]   \n",
       "19                                [3.0, 2.0]   \n",
       "20                                [3.0, 2.0]   \n",
       "21                                [3.0, 2.0]   \n",
       "22                                [3.0, 2.0]   \n",
       "23                                [3.0, 2.0]   \n",
       "24                                [3.0, 2.0]   \n",
       "25                                [3.0, 2.0]   \n",
       "26                                [3.0, 2.0]   \n",
       "27                                [3.0, 2.0]   \n",
       "28                                [3.0, 2.0]   \n",
       "29                                [3.0, 2.0]   \n",
       "..                                       ...   \n",
       "70                                [3.0, 2.0]   \n",
       "71                                [3.0, 2.0]   \n",
       "72                                [3.0, 2.0]   \n",
       "73                                [3.0, 2.0]   \n",
       "74                                [3.0, 2.0]   \n",
       "75                                [3.0, 2.0]   \n",
       "76                                [3.0, 2.0]   \n",
       "77                                [3.0, 2.0]   \n",
       "78                                [3.0, 2.0]   \n",
       "79                                [3.0, 2.0]   \n",
       "80                                [3.0, 2.0]   \n",
       "81                                [3.0, 2.0]   \n",
       "82                                [3.0, 2.0]   \n",
       "83                                [3.0, 2.0]   \n",
       "84                                [3.0, 2.0]   \n",
       "85                                [3.0, 2.0]   \n",
       "86                                [3.0, 2.0]   \n",
       "87                                [3.0, 2.0]   \n",
       "88                                [3.0, 2.0]   \n",
       "89                                [3.0, 2.0]   \n",
       "90                                [3.0, 2.0]   \n",
       "91                                [3.0, 2.0]   \n",
       "92                                [3.0, 2.0]   \n",
       "93                                [3.0, 2.0]   \n",
       "94                                [3.0, 2.0]   \n",
       "95                                [3.0, 2.0]   \n",
       "96                                [3.0, 2.0]   \n",
       "97                                [3.0, 2.0]   \n",
       "98                                [3.0, 2.0]   \n",
       "99                                [3.0, 2.0]   \n",
       "\n",
       "                          Pivoteamento=False             e  \n",
       "0   [0.3555555555555555, 0.2222222222222222]  1.000000e+01  \n",
       "1                                 [2.0, 1.0]  1.000000e+00  \n",
       "2    [2.814070351758793, 1.8592964824120604]  1.000000e-01  \n",
       "3    [2.9801490074504056, 1.985099254962748]  1.000000e-02  \n",
       "4   [2.9980014990007575, 1.9985009992504996]  1.000000e-03  \n",
       "5   [2.9998000149955573, 1.9998500099992502]  1.000000e-04  \n",
       "6    [2.999980000151225, 1.9999850000999992]  1.000000e-05  \n",
       "7       [2.9999979997974435, 1.999998500001]  1.000000e-06  \n",
       "8      [2.999999799691011, 1.99999985000001]  1.000000e-07  \n",
       "9           [2.999999981767587, 1.999999985]  1.000000e-08  \n",
       "10         [2.999999804131903, 1.9999999985]  1.000000e-09  \n",
       "11        [3.000000248221113, 1.99999999985]  1.000000e-10  \n",
       "12       [3.000000248221113, 1.999999999985]  1.000000e-11  \n",
       "13      [2.999822612537173, 1.9999999999985]  1.000000e-12  \n",
       "14    [3.0020430585864233, 1.99999999999985]  1.000000e-13  \n",
       "15    [3.019806626980426, 1.999999999999985]  1.000000e-14  \n",
       "16   [3.108624468950438, 1.9999999999999984]  1.000000e-15  \n",
       "17                                [0.0, 2.0]  1.000000e-16  \n",
       "18                                [0.0, 2.0]  1.000000e-17  \n",
       "19                                [0.0, 2.0]  1.000000e-18  \n",
       "20                                [0.0, 2.0]  1.000000e-19  \n",
       "21                                [0.0, 2.0]  1.000000e-20  \n",
       "22                                [0.0, 2.0]  1.000000e-21  \n",
       "23                                [0.0, 2.0]  1.000000e-22  \n",
       "24                                [0.0, 2.0]  1.000000e-23  \n",
       "25                                [0.0, 2.0]  1.000000e-24  \n",
       "26                                [0.0, 2.0]  1.000000e-25  \n",
       "27                                [0.0, 2.0]  1.000000e-26  \n",
       "28                                [0.0, 2.0]  1.000000e-27  \n",
       "29                                [0.0, 2.0]  1.000000e-28  \n",
       "..                                       ...           ...  \n",
       "70                                [0.0, 2.0]  1.000000e-69  \n",
       "71                                [0.0, 2.0]  1.000000e-70  \n",
       "72                                [0.0, 2.0]  1.000000e-71  \n",
       "73                                [0.0, 2.0]  1.000000e-72  \n",
       "74                                [0.0, 2.0]  1.000000e-73  \n",
       "75                                [0.0, 2.0]  1.000000e-74  \n",
       "76                                [0.0, 2.0]  1.000000e-75  \n",
       "77                                [0.0, 2.0]  1.000000e-76  \n",
       "78                                [0.0, 2.0]  1.000000e-77  \n",
       "79                                [0.0, 2.0]  1.000000e-78  \n",
       "80                                [0.0, 2.0]  1.000000e-79  \n",
       "81                                [0.0, 2.0]  1.000000e-80  \n",
       "82                                [0.0, 2.0]  1.000000e-81  \n",
       "83                                [0.0, 2.0]  1.000000e-82  \n",
       "84                                [0.0, 2.0]  1.000000e-83  \n",
       "85                                [0.0, 2.0]  1.000000e-84  \n",
       "86                                [0.0, 2.0]  1.000000e-85  \n",
       "87                                [0.0, 2.0]  1.000000e-86  \n",
       "88                                [0.0, 2.0]  1.000000e-87  \n",
       "89                                [0.0, 2.0]  1.000000e-88  \n",
       "90                                [0.0, 2.0]  1.000000e-89  \n",
       "91                                [0.0, 2.0]  1.000000e-90  \n",
       "92                                [0.0, 2.0]  1.000000e-91  \n",
       "93                                [0.0, 2.0]  1.000000e-92  \n",
       "94                                [0.0, 2.0]  1.000000e-93  \n",
       "95                                [0.0, 2.0]  1.000000e-94  \n",
       "96                                [0.0, 2.0]  1.000000e-95  \n",
       "97                                [0.0, 2.0]  1.000000e-96  \n",
       "98                                [0.0, 2.0]  1.000000e-97  \n",
       "99                                [0.0, 2.0]  1.000000e-98  \n",
       "\n",
       "[100 rows x 3 columns]"
      ]
     },
     "execution_count": 31,
     "metadata": {},
     "output_type": "execute_result"
    }
   ],
   "source": [
    "e = 10\n",
    "A = np.array([[e,2],[1,e]])\n",
    "b = np.array([4,3])\n",
    "eList = []\n",
    "\n",
    "resultPivotiamento = []\n",
    "resultSemPivotiamento = []\n",
    "for i in range(100):\n",
    "    resultPivotiamento.append(elim_gaussiana2(A, b, pivotamento=True)[2])\n",
    "    resultSemPivotiamento.append(elim_gaussiana2(A, b, pivotamento=False)[2])\n",
    "    eList.append(e)\n",
    "    e = 10**(-i)\n",
    "    A= np.array([[e,2],[1,e]])\n",
    "pd.DataFrame({'Pivoteamento=True':resultPivotiamento,'Pivoteamento=False':resultSemPivotiamento, \"e\":eList})"
   ]
  },
  {
   "cell_type": "markdown",
   "metadata": {},
   "source": [
    "#### Exercicio 6"
   ]
  },
  {
   "cell_type": "markdown",
   "metadata": {},
   "source": [
    "Os resultados são diferentes pois o método lu retorna as matrizes L e U separadas, permitindo outras aplicações desse resultado sem a necessidade de manipulações nas matrizes.\n",
    "\n",
    "Já o método lu_factor() retorna ambas as matrizes L e U unidas em uma só. Ou seja, no formato ideal para ser usado como entrada para a função lu_solve."
   ]
  },
  {
   "cell_type": "markdown",
   "metadata": {},
   "source": [
    "#### Exercicio 7"
   ]
  },
  {
   "cell_type": "markdown",
   "metadata": {},
   "source": [
    "Transformando os dados em matrizes e aplicando o algoritmo de solução."
   ]
  },
  {
   "cell_type": "code",
   "execution_count": 10,
   "metadata": {},
   "outputs": [
    {
     "data": {
      "text/plain": [
       "array([ 8.09983897, 12.35196687, 16.89855072, 16.49275362])"
      ]
     },
     "execution_count": 10,
     "metadata": {},
     "output_type": "execute_result"
    }
   ],
   "source": [
    "matA = np.array([[225,0,-25,0], [0, 175, 0, -125], [225, 0, -275, 50], [0, 25, 250, -275]])\n",
    "matB = np.array([1400,100, -2000, 0])\n",
    "res = elim_gaussiana2(matA, matB, pivotamento=True)[2]\n",
    "res"
   ]
  },
  {
   "cell_type": "markdown",
   "metadata": {},
   "source": [
    "##### b) \n",
    "Para saber a quantidade de cada fator na área das crianças, devemos ter a matriz $b$ contendo apenas os valores correspondentes ao peso desse fator. Ex: para os fumantes, temos: $b = [1000,0,0,0 ]$"
   ]
  },
  {
   "cell_type": "code",
   "execution_count": 11,
   "metadata": {},
   "outputs": [
    {
     "data": {
      "text/plain": [
       "array([4.99624262, 3.45065562, 4.96618357, 4.83091787])"
      ]
     },
     "execution_count": 11,
     "metadata": {},
     "output_type": "execute_result"
    }
   ],
   "source": [
    "matB = np.array([1000,0,0,0])\n",
    "res1 = elim_gaussiana2(matA, matB, pivotamento=True)[2]\n",
    "res1"
   ]
  },
  {
   "cell_type": "markdown",
   "metadata": {},
   "source": [
    "##### 1\n",
    "Como nosso interesse é apenas na sala 2, temos que dos 12.35 mg/h de monóxido de carbono que chegam a sala 2, 3.45 são devido aos fumantes, correspondendo à cerca de 27.94% da poluição na sala das crianças."
   ]
  },
  {
   "cell_type": "code",
   "execution_count": 13,
   "metadata": {},
   "outputs": [
    {
     "data": {
      "text/plain": [
       "array([1.10359635, 6.90131125, 9.93236715, 9.66183575])"
      ]
     },
     "execution_count": 13,
     "metadata": {},
     "output_type": "execute_result"
    }
   ],
   "source": [
    "matB = np.array([0,0,-2000,0])\n",
    "res2 = elim_gaussiana2(matA, matB, pivotamento=True)[2]\n",
    "res2"
   ]
  },
  {
   "cell_type": "markdown",
   "metadata": {},
   "source": [
    "##### 2\n",
    "A grelha corresponde a 58.77% da poluição da sala das crianças."
   ]
  },
  {
   "cell_type": "code",
   "execution_count": 15,
   "metadata": {},
   "outputs": [
    {
     "data": {
      "text/plain": [
       "array([2., 2., 2., 2.])"
      ]
     },
     "execution_count": 15,
     "metadata": {},
     "output_type": "execute_result"
    }
   ],
   "source": [
    "matB = np.array([400,100,0,0])\n",
    "res3 = elim_gaussiana2(matA, matB, pivotamento=True)[2]\n",
    "res3"
   ]
  },
  {
   "cell_type": "markdown",
   "metadata": {},
   "source": [
    "##### 3\n",
    "A ventilação Qa é de aproximadamente 12.13% da poluição na sala das crianças"
   ]
  },
  {
   "cell_type": "markdown",
   "metadata": {},
   "source": [
    "##### c)"
   ]
  },
  {
   "cell_type": "code",
   "execution_count": 16,
   "metadata": {},
   "outputs": [
    {
     "data": {
      "text/plain": [
       "array([14.75095785, 26.13793103, 36.75862069, 35.79310345])"
      ]
     },
     "execution_count": 16,
     "metadata": {},
     "output_type": "execute_result"
    }
   ],
   "source": [
    "A = np.array([[225, 0, -25, 0], [0, 175, 0, -125], [225, 0, -275, 50], [0, 25, 250, -275]])\n",
    "b = np.array([2400, 100, -5000, 0])\n",
    "A_Inv = sla.inv(matA)\n",
    "M = np.dot(A_Inv, b)\n",
    "M"
   ]
  },
  {
   "cell_type": "code",
   "execution_count": 18,
   "metadata": {},
   "outputs": [
    {
     "data": {
      "text/plain": [
       "array([ 6.65111889, 13.78596416, 19.86006997, 19.30034983])"
      ]
     },
     "execution_count": 18,
     "metadata": {},
     "output_type": "execute_result"
    }
   ],
   "source": [
    "M-res"
   ]
  },
  {
   "cell_type": "markdown",
   "metadata": {},
   "source": [
    "Portanto o aumento na concentração de carbono foi de 13.73 mg/h"
   ]
  },
  {
   "cell_type": "markdown",
   "metadata": {},
   "source": [
    "##### d)"
   ]
  },
  {
   "cell_type": "code",
   "execution_count": 19,
   "metadata": {},
   "outputs": [
    {
     "data": {
      "text/plain": [
       "array([ 8.10956329, 12.11410688, 16.98606965, 16.93034826])"
      ]
     },
     "execution_count": 19,
     "metadata": {},
     "output_type": "execute_result"
    }
   ],
   "source": [
    "A = np.array([[225, 0, -25, 0], [0, 155, 0, -105], [225, 0, -275, 50], [0, 5, 250, -255]])\n",
    "b = np.array([1400, 100, -2000, 0])\n",
    "resu = elim_gaussiana2(A, b, pivotamento=True)[2]\n",
    "resu"
   ]
  },
  {
   "cell_type": "code",
   "execution_count": 20,
   "metadata": {},
   "outputs": [
    {
     "data": {
      "text/plain": [
       "array([ 0.00972433, -0.23785999,  0.08751893,  0.43759464])"
      ]
     },
     "execution_count": 20,
     "metadata": {},
     "output_type": "execute_result"
    }
   ],
   "source": [
    "resu-res"
   ]
  },
  {
   "cell_type": "markdown",
   "metadata": {},
   "source": [
    "A instalação da rede reduziria a concentração de carbono na sala das crianças em 0.2376 mg/h"
   ]
  },
  {
   "cell_type": "markdown",
   "metadata": {},
   "source": [
    "#### Exercico 8"
   ]
  },
  {
   "cell_type": "code",
   "execution_count": 25,
   "metadata": {},
   "outputs": [
    {
     "data": {
      "text/plain": [
       "array([-2.22222222e-01,  1.44444444e+01,  6.66133815e-15])"
      ]
     },
     "execution_count": 25,
     "metadata": {},
     "output_type": "execute_result"
    }
   ],
   "source": [
    "A = np.array([[15,0.30,1],[17,0.4,1.2],[19,0.5,1.5]])\n",
    "b = np.array([1,2,3])\n",
    "elim_gaussiana2(A, b, pivotamento=True)[2]"
   ]
  },
  {
   "cell_type": "code",
   "execution_count": 26,
   "metadata": {},
   "outputs": [
    {
     "data": {
      "text/plain": [
       "0.5077777744200019"
      ]
     },
     "execution_count": 26,
     "metadata": {},
     "output_type": "execute_result"
    }
   ],
   "source": [
    "resultado = -2.22222222e-01*3.89 + 1.44444444e+01*0.095 + 6.66133815e-15*0.282\n",
    "resultado"
   ]
  },
  {
   "cell_type": "markdown",
   "metadata": {},
   "source": [
    "#### Exercico 9"
   ]
  },
  {
   "cell_type": "code",
   "execution_count": 28,
   "metadata": {},
   "outputs": [
    {
     "data": {
      "text/plain": [
       "array([18.15559809,  5.38277512, 19.84210526])"
      ]
     },
     "execution_count": 28,
     "metadata": {},
     "output_type": "execute_result"
    }
   ],
   "source": [
    "A = np.array([[0,55,-25],[0,-35,-4],[-25,-4,29]])\n",
    "b = np.array([-200,-250,100])\n",
    "elim_gaussiana2(A, b, pivotamento=True)[2]"
   ]
  },
  {
   "cell_type": "code",
   "execution_count": null,
   "metadata": {},
   "outputs": [],
   "source": []
  }
 ],
 "metadata": {
  "kernelspec": {
   "display_name": "Python 3",
   "language": "python",
   "name": "python3"
  },
  "language_info": {
   "codemirror_mode": {
    "name": "ipython",
    "version": 3
   },
   "file_extension": ".py",
   "mimetype": "text/x-python",
   "name": "python",
   "nbconvert_exporter": "python",
   "pygments_lexer": "ipython3",
   "version": "3.6.5"
  }
 },
 "nbformat": 4,
 "nbformat_minor": 2
}
