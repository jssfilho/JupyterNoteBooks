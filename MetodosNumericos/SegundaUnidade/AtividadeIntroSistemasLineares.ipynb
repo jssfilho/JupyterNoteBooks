{
 "cells": [
  {
   "cell_type": "code",
   "execution_count": 3,
   "metadata": {},
   "outputs": [],
   "source": [
    "import pandas as pd\n",
    "import numpy as np\n",
    "import scipy.linalg as sla\n",
    "\n",
    "%matplotlib inline\n",
    "import matplotlib.pyplot as plt"
   ]
  },
  {
   "cell_type": "markdown",
   "metadata": {},
   "source": [
    "#### Exercico 1 <br/>\n",
    "O Sistema linear do exemplo citado é o seguinte: <br/>\n",
    "\n",
    "$3x_1 + 4x_2 - 5x_3 + x_4 = -10$ <br/>\n",
    "$x_2 + x_3 - 2x_4 = -1$ <br/>\n",
    "$4x_3 - 5x_4 = 3$ <br/>\n",
    "$2x_4 = 2$ <br/>\n",
    "\n",
    "Usando a equação de substituição retroativa (7), para encontrar o valor de $x$ "
   ]
  },
  {
   "cell_type": "markdown",
   "metadata": {},
   "source": [
    "P/ $x_4$, $x_4 = \\frac{2-0}{2} = 1$ <br/>\n",
    "\n",
    "P/ $x_2$, $x_2 = \\frac{-1 - (-2 + 2)}{1} = -1$ <br/>\n",
    "\n",
    "P/ $x_1$, $x_1 = \\frac{-10 - (1 -10 - 4)}{3} = 1$ <br/>\n",
    "\n",
    "Logo a equação de substituição retroativa (7) é valida."
   ]
  },
  {
   "cell_type": "markdown",
   "metadata": {},
   "source": [
    "#### Exercicio 2"
   ]
  },
  {
   "cell_type": "code",
   "execution_count": 28,
   "metadata": {},
   "outputs": [],
   "source": [
    "def retroSub(A, b):\n",
    "    tamA = len(A)\n",
    "    x = [0]*tamA\n",
    "    for i in range(tamA-1, -1, -1):\n",
    "        soma = 0\n",
    "        for j in range(i, tamA):\n",
    "            soma  += (A[i][j]*x[j])\n",
    "        x[i] = (b[i] - soma)/A[i][i]\n",
    "    return x"
   ]
  },
  {
   "cell_type": "code",
   "execution_count": 29,
   "metadata": {},
   "outputs": [
    {
     "data": {
      "text/plain": [
       "[1.0, -1.0, 2.0, 1.0]"
      ]
     },
     "execution_count": 29,
     "metadata": {},
     "output_type": "execute_result"
    }
   ],
   "source": [
    "A = [[3,4,-5,1],[0,1,1,-2],[0,0,4,-5],[0,0,0,2]]\n",
    "b = [-10,-1,3,2]\n",
    "retroSub(A,b)"
   ]
  },
  {
   "cell_type": "markdown",
   "metadata": {},
   "source": [
    "#### Exercicio 3"
   ]
  },
  {
   "cell_type": "code",
   "execution_count": 30,
   "metadata": {},
   "outputs": [],
   "source": [
    "def progreSub(A,b):\n",
    "    tamA=len(A)\n",
    "    x = [0]*tamA\n",
    "    for i in range(tamA):\n",
    "        soma = 0\n",
    "        for j in range(i, tamA):\n",
    "            soma  += (A[i][j]*x[j])\n",
    "        x[i] = (b[i] - soma)/A[i][i]\n",
    "    return x"
   ]
  },
  {
   "cell_type": "code",
   "execution_count": 31,
   "metadata": {},
   "outputs": [
    {
     "data": {
      "text/plain": [
       "[1.3333333333333333, 2.0, 4.0, 2.0]"
      ]
     },
     "execution_count": 31,
     "metadata": {},
     "output_type": "execute_result"
    }
   ],
   "source": [
    "#sistema proposto\n",
    "A0 = [[3,0,0,0],[2,1,0,0],[1,0,1,0],[1,1,1,1]]\n",
    "b0 = [4,2,4,2]\n",
    "sub_prog(A0,b0)"
   ]
  },
  {
   "cell_type": "markdown",
   "metadata": {},
   "source": [
    "#### Exercicio 4"
   ]
  },
  {
   "cell_type": "code",
   "execution_count": 36,
   "metadata": {},
   "outputs": [
    {
     "data": {
      "text/plain": [
       "array([ 1., -1.,  2.,  1.])"
      ]
     },
     "execution_count": 36,
     "metadata": {},
     "output_type": "execute_result"
    }
   ],
   "source": [
    "# referente questão 2\n",
    "sla.solve_triangular(A, b)"
   ]
  },
  {
   "cell_type": "code",
   "execution_count": 37,
   "metadata": {},
   "outputs": [
    {
     "data": {
      "text/plain": [
       "array([ 1.33333333, -0.66666667,  2.66666667, -1.33333333])"
      ]
     },
     "execution_count": 37,
     "metadata": {},
     "output_type": "execute_result"
    }
   ],
   "source": [
    "sla.solve_triangular(A0, b0, lower=True)"
   ]
  },
  {
   "cell_type": "markdown",
   "metadata": {},
   "source": [
    "OS métodos "
   ]
  }
 ],
 "metadata": {
  "kernelspec": {
   "display_name": "Python 3",
   "language": "python",
   "name": "python3"
  },
  "language_info": {
   "codemirror_mode": {
    "name": "ipython",
    "version": 3
   },
   "file_extension": ".py",
   "mimetype": "text/x-python",
   "name": "python",
   "nbconvert_exporter": "python",
   "pygments_lexer": "ipython3",
   "version": "3.6.5"
  }
 },
 "nbformat": 4,
 "nbformat_minor": 2
}
