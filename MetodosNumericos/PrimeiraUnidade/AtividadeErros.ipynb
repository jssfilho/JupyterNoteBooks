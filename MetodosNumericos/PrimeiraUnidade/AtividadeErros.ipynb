{
 "cells": [
  {
   "cell_type": "code",
   "execution_count": 2,
   "metadata": {},
   "outputs": [],
   "source": [
    "import numpy as np\n",
    "import scipy.optimize as opt\n",
    "import matplotlib.pyplot as plt"
   ]
  },
  {
   "cell_type": "code",
   "execution_count": 20,
   "metadata": {},
   "outputs": [],
   "source": [
    "def erro(x,y):\n",
    "    return np.abs(x-y), (np.abs(x-y)/x)*100\n"
   ]
  },
  {
   "cell_type": "code",
   "execution_count": 16,
   "metadata": {},
   "outputs": [
    {
     "name": "stdout",
     "output_type": "stream",
     "text": [
      "Erro relativo:  0.018864749671345722\n",
      "Erro absoluto:  0.0005926535897931018\n"
     ]
    }
   ],
   "source": [
    "#2.5.1 letra a\n",
    "ea, er = erro(np.pi,3.141) \n",
    "print(\"Erro relativo: \",er)\n",
    "print(\"Erro absoluto: \",ea)"
   ]
  },
  {
   "cell_type": "code",
   "execution_count": 17,
   "metadata": {},
   "outputs": [
    {
     "name": "stdout",
     "output_type": "stream",
     "text": [
      "Erro relativo:  0.00099999000010655\n",
      "Erro absoluto:  1.0000000000065512e-05\n"
     ]
    }
   ],
   "source": [
    "#2.5.1 letra b\n",
    "ea, er = erro(1.00001,1) \n",
    "print(\"Erro relativo: \",er)\n",
    "print(\"Erro absoluto: \",ea)"
   ]
  },
  {
   "cell_type": "code",
   "execution_count": 19,
   "metadata": {},
   "outputs": [
    {
     "name": "stdout",
     "output_type": "stream",
     "text": [
      "Erro relativo:  0.000999990000099999\n",
      "Erro absoluto:  1\n"
     ]
    }
   ],
   "source": [
    "#2.5.1 letra c\n",
    "ea, er = erro(100001,100000) \n",
    "print(\"Erro relativo: \",er)\n",
    "print(\"Erro absoluto: \",ea)"
   ]
  },
  {
   "cell_type": "code",
   "execution_count": 22,
   "metadata": {},
   "outputs": [
    {
     "data": {
      "text/plain": [
       "1.7889"
      ]
     },
     "execution_count": 22,
     "metadata": {},
     "output_type": "execute_result"
    }
   ],
   "source": [
    "#2.5.2 letra a\n",
    "round(1.7888544,4)"
   ]
  },
  {
   "cell_type": "code",
   "execution_count": 24,
   "metadata": {},
   "outputs": [
    {
     "data": {
      "text/plain": [
       "1788.9"
      ]
     },
     "execution_count": 24,
     "metadata": {},
     "output_type": "execute_result"
    }
   ],
   "source": [
    "#2.5.2 letra b\n",
    "round(1788.8544,1)"
   ]
  },
  {
   "cell_type": "code",
   "execution_count": 26,
   "metadata": {},
   "outputs": [
    {
     "data": {
      "text/plain": [
       "0.0017889"
      ]
     },
     "execution_count": 26,
     "metadata": {},
     "output_type": "execute_result"
    }
   ],
   "source": [
    "#2.5.2 letra c\n",
    "round(0.0017888544,7)"
   ]
  },
  {
   "cell_type": "code",
   "execution_count": 27,
   "metadata": {},
   "outputs": [
    {
     "data": {
      "text/plain": [
       "0.0045966"
      ]
     },
     "execution_count": 27,
     "metadata": {},
     "output_type": "execute_result"
    }
   ],
   "source": [
    "#2.5.2 letra d\n",
    "round(0.004596632,7)"
   ]
  },
  {
   "cell_type": "code",
   "execution_count": 32,
   "metadata": {},
   "outputs": [
    {
     "data": {
      "text/plain": [
       "2.1755e-09"
      ]
     },
     "execution_count": 32,
     "metadata": {},
     "output_type": "execute_result"
    }
   ],
   "source": [
    "#2.5.2 letra e\n",
    "round(2.1754999,4)*10e-10"
   ]
  },
  {
   "cell_type": "code",
   "execution_count": 42,
   "metadata": {},
   "outputs": [
    {
     "data": {
      "text/plain": [
       "217550000000.0"
      ]
     },
     "execution_count": 42,
     "metadata": {},
     "output_type": "execute_result"
    }
   ],
   "source": [
    "#2.5.2 letra f\n",
    "round(2.1754999,4)*10e10"
   ]
  },
  {
   "cell_type": "code",
   "execution_count": 4,
   "metadata": {},
   "outputs": [
    {
     "name": "stdout",
     "output_type": "stream",
     "text": [
      "3280 3276.0\n"
     ]
    }
   ],
   "source": [
    "#2.5.3 letra a\n",
    "ar, tr = np.round(3276, decimals=-1), np.trunc(3276)\n",
    "print(ar, tr)"
   ]
  },
  {
   "cell_type": "code",
   "execution_count": 7,
   "metadata": {},
   "outputs": [
    {
     "name": "stdout",
     "output_type": "stream",
     "text": [
      "42.6\n",
      "42.0\n"
     ]
    }
   ],
   "source": [
    "#2.5.3 letra b\n",
    "tr,ar = np.trunc(42.55), np.around(42.55, 1)\n",
    "print(ar)\n",
    "print(tr)"
   ]
  },
  {
   "cell_type": "code",
   "execution_count": 11,
   "metadata": {},
   "outputs": [
    {
     "name": "stdout",
     "output_type": "stream",
     "text": [
      "0.0\n",
      "3.3e-05\n"
     ]
    }
   ],
   "source": [
    "#2.5.3 letra c\n",
    "tr, ar = np.trunc(0.00003331), np.around(0.00003331, 6)\n",
    "print(tr)\n",
    "print(ar)"
   ]
  },
  {
   "cell_type": "code",
   "execution_count": 14,
   "metadata": {},
   "outputs": [],
   "source": [
    "def sigCorretos(x, y):\n",
    "    n = 0\n",
    "    cont = 0\n",
    "    while n < 5*10**(-cont):  \n",
    "        n = np.abs(x-y)/np.abs(x)\n",
    "        cont += 1\n",
    "    return cont-1\n"
   ]
  },
  {
   "cell_type": "code",
   "execution_count": 16,
   "metadata": {},
   "outputs": [
    {
     "name": "stdout",
     "output_type": "stream",
     "text": [
      "2\n"
     ]
    }
   ],
   "source": [
    "#2.5.4 letra a\n",
    "print (sigCorretos(2.5834,2.6))"
   ]
  },
  {
   "cell_type": "code",
   "execution_count": 27,
   "metadata": {},
   "outputs": [
    {
     "name": "stdout",
     "output_type": "stream",
     "text": [
      "2\n"
     ]
    }
   ],
   "source": [
    "#2.5.4 letra b\n",
    "print (sigCorretos(100,99))"
   ]
  },
  {
   "cell_type": "code",
   "execution_count": 31,
   "metadata": {},
   "outputs": [
    {
     "data": {
      "text/plain": [
       "120.1"
      ]
     },
     "execution_count": 31,
     "metadata": {},
     "output_type": "execute_result"
    }
   ],
   "source": [
    "#2.5.5\n",
    "#0.1x = 12+0.01\n",
    "x=(12+0.01)/0.1\n",
    "x"
   ]
  },
  {
   "cell_type": "code",
   "execution_count": 28,
   "metadata": {},
   "outputs": [
    {
     "name": "stdout",
     "output_type": "stream",
     "text": [
      "3e-07\n",
      "1.1e-05\n"
     ]
    }
   ],
   "source": [
    "#2.5.6 letra a\n",
    "ea, er = erro(3.1415926535898,3.141593)\n",
    "print(round(ea,7))\n",
    "print(round(er,7))"
   ]
  },
  {
   "cell_type": "code",
   "execution_count": 29,
   "metadata": {},
   "outputs": [
    {
     "name": "stdout",
     "output_type": "stream",
     "text": [
      "0.00014286\n",
      "0.1\n"
     ]
    }
   ],
   "source": [
    "#2.5.6 letra b\n",
    "ea, er = erro(1/7,0.143)\n",
    "print(round(ea,8))\n",
    "print(round(er,8))"
   ]
  }
 ],
 "metadata": {
  "kernelspec": {
   "display_name": "Python 3",
   "language": "python",
   "name": "python3"
  },
  "language_info": {
   "codemirror_mode": {
    "name": "ipython",
    "version": 3
   },
   "file_extension": ".py",
   "mimetype": "text/x-python",
   "name": "python",
   "nbconvert_exporter": "python",
   "pygments_lexer": "ipython3",
   "version": "3.6.5"
  }
 },
 "nbformat": 4,
 "nbformat_minor": 2
}
