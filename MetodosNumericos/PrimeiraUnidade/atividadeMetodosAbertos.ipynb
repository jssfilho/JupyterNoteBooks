{
 "cells": [
  {
   "cell_type": "code",
   "execution_count": 1,
   "metadata": {},
   "outputs": [],
   "source": [
    "import numpy as np\n",
    "import matplotlib.pyplot as plt\n",
    "import scipy.optimize as opt\n",
    "import pandas as pd"
   ]
  },
  {
   "cell_type": "code",
   "execution_count": 2,
   "metadata": {},
   "outputs": [],
   "source": [
    "#Exercicio 1\n",
    "def point_fixo(f,x,tol):\n",
    "    E = []\n",
    "    X0 = [x]\n",
    "    X1 = []\n",
    "    erro = np.inf\n",
    "    while(erro > tol):\n",
    "        x_it = f(X0[-1])\n",
    "        print(x_it)\n",
    "        erro = np.abs((x_it - X0[-1])/x_it)\n",
    "        X1.append(x_it)\n",
    "        X0.append(x_it)\n",
    "        \n",
    "        E.append(erro)\n",
    "    return X0, X1, E\n",
    "\n",
    "def met_secante(f,x, tol=10e-10):\n",
    "    E = []\n",
    "    X0 = [0,x]\n",
    "    X1 = []\n",
    "    erro = np.inf\n",
    "    while(erro > tol):\n",
    "        x_it = X0[-1] - (f(X0[-1])*(X0[-2] - X0[-1]))/(f(X0[-2])-f(X0[-1]))\n",
    "        erro = np.abs((x_it - X0[-1])/x_it)\n",
    "        X1.append(x_it)\n",
    "        X0.append(x_it)\n",
    "        E.append(erro)\n",
    "    return X0, X1, E\n",
    "\n",
    "def newton_aphson(f, flinha, x, tol):\n",
    "    E = []\n",
    "    X0 = [x]\n",
    "    X1 = []\n",
    "    erro = np.inf\n",
    "    while(erro > tol):\n",
    "        x_it = X0[-1] - f(X0[-1])/flinha(X0[-1])\n",
    "        erro = np.abs((x_it - X0[-1])/x_it)\n",
    "        X1.append(x_it)\n",
    "        X0.append(x_it)\n",
    "        E.append(erro)\n",
    "    return X0, X1, E"
   ]
  },
  {
   "cell_type": "code",
   "execution_count": 17,
   "metadata": {},
   "outputs": [
    {
     "data": {
      "text/html": [
       "<div>\n",
       "<style scoped>\n",
       "    .dataframe tbody tr th:only-of-type {\n",
       "        vertical-align: middle;\n",
       "    }\n",
       "\n",
       "    .dataframe tbody tr th {\n",
       "        vertical-align: top;\n",
       "    }\n",
       "\n",
       "    .dataframe thead th {\n",
       "        text-align: right;\n",
       "    }\n",
       "</style>\n",
       "<table border=\"1\" class=\"dataframe\">\n",
       "  <thead>\n",
       "    <tr style=\"text-align: right;\">\n",
       "      <th></th>\n",
       "      <th>xi</th>\n",
       "      <th>e</th>\n",
       "    </tr>\n",
       "  </thead>\n",
       "  <tbody>\n",
       "    <tr>\n",
       "      <th>0</th>\n",
       "      <td>1.0</td>\n",
       "      <td>1.0</td>\n",
       "    </tr>\n",
       "    <tr>\n",
       "      <th>1</th>\n",
       "      <td>0.5403023058681398</td>\n",
       "      <td>0.8508157176809255</td>\n",
       "    </tr>\n",
       "    <tr>\n",
       "      <th>2</th>\n",
       "      <td>0.8575532158463934</td>\n",
       "      <td>0.3699489479088844</td>\n",
       "    </tr>\n",
       "    <tr>\n",
       "      <th>3</th>\n",
       "      <td>0.6542897904977791</td>\n",
       "      <td>0.3106626884609844</td>\n",
       "    </tr>\n",
       "    <tr>\n",
       "      <th>4</th>\n",
       "      <td>0.7934803587425656</td>\n",
       "      <td>0.17541778660452648</td>\n",
       "    </tr>\n",
       "    <tr>\n",
       "      <th>5</th>\n",
       "      <td>0.7013687736227565</td>\n",
       "      <td>0.13133117495954122</td>\n",
       "    </tr>\n",
       "    <tr>\n",
       "      <th>6</th>\n",
       "      <td>0.7639596829006542</td>\n",
       "      <td>0.08192959743667133</td>\n",
       "    </tr>\n",
       "  </tbody>\n",
       "</table>\n",
       "</div>"
      ],
      "text/plain": [
       "                   xi                    e\n",
       "0                 1.0                  1.0\n",
       "1  0.5403023058681398   0.8508157176809255\n",
       "2  0.8575532158463934   0.3699489479088844\n",
       "3  0.6542897904977791   0.3106626884609844\n",
       "4  0.7934803587425656  0.17541778660452648\n",
       "5  0.7013687736227565  0.13133117495954122\n",
       "6  0.7639596829006542  0.08192959743667133"
      ]
     },
     "execution_count": 17,
     "metadata": {},
     "output_type": "execute_result"
    }
   ],
   "source": [
    "#Exercicio 2\n",
    "def f(x):\n",
    "    return np.cos(x)\n",
    "\n",
    "x1, x0, e = point_fixo(f,0,10e-2)\n",
    "\n",
    "pd.DataFrame({'xi':x0,'e':e},dtype=str)"
   ]
  },
  {
   "cell_type": "code",
   "execution_count": 48,
   "metadata": {},
   "outputs": [],
   "source": [
    "#Exercicios 3\n",
    "def f(x):\n",
    "    return (x**10)-1\n",
    "def flinha(x):\n",
    "    return 10*(x**9)"
   ]
  },
  {
   "cell_type": "code",
   "execution_count": 43,
   "metadata": {},
   "outputs": [
    {
     "name": "stdout",
     "output_type": "stream",
     "text": [
      "CPU times: user 4 ms, sys: 0 ns, total: 4 ms\n",
      "Wall time: 1.31 ms\n"
     ]
    }
   ],
   "source": [
    "%%time\n",
    "x1, x0, e = newton_aphson(f,flinha,0.5,10e-12)"
   ]
  },
  {
   "cell_type": "code",
   "execution_count": 44,
   "metadata": {},
   "outputs": [
    {
     "name": "stdout",
     "output_type": "stream",
     "text": [
      "CPU times: user 0 ns, sys: 0 ns, total: 0 ns\n",
      "Wall time: 88.9 µs\n"
     ]
    }
   ],
   "source": [
    "%%time\n",
    "dx1, dx0, de = met_secante(f,0.5,10e-12)"
   ]
  },
  {
   "cell_type": "code",
   "execution_count": 46,
   "metadata": {},
   "outputs": [
    {
     "name": "stdout",
     "output_type": "stream",
     "text": [
      "CPU times: user 0 ns, sys: 0 ns, total: 0 ns\n",
      "Wall time: 67.9 µs\n"
     ]
    },
    {
     "data": {
      "text/plain": [
       "0.5001499999999982"
      ]
     },
     "execution_count": 46,
     "metadata": {},
     "output_type": "execute_result"
    }
   ],
   "source": [
    "%%time\n",
    "opt.newton(func=f,x0=0.5)"
   ]
  },
  {
   "cell_type": "code",
   "execution_count": 51,
   "metadata": {},
   "outputs": [
    {
     "name": "stdout",
     "output_type": "stream",
     "text": [
      "CPU times: user 0 ns, sys: 0 ns, total: 0 ns\n",
      "Wall time: 233 µs\n"
     ]
    },
    {
     "data": {
      "text/plain": [
       "1.0"
      ]
     },
     "execution_count": 51,
     "metadata": {},
     "output_type": "execute_result"
    }
   ],
   "source": [
    "%%time\n",
    "opt.newton(func=f,fprime=flinha,x0=0.5)"
   ]
  },
  {
   "cell_type": "code",
   "execution_count": 61,
   "metadata": {},
   "outputs": [
    {
     "data": {
      "text/plain": [
       "[<matplotlib.lines.Line2D at 0x7f747ff487b8>]"
      ]
     },
     "execution_count": 61,
     "metadata": {},
     "output_type": "execute_result"
    },
    {
     "data": {
      "image/png": "[encoded data removed]",
      "text/plain": [
       "<Figure size 432x288 with 1 Axes>"
      ]
     },
     "metadata": {},
     "output_type": "display_data"
    }
   ],
   "source": [
    "#Exercicio 4\n",
    "def f4(x): \n",
    "    return np.exp(-(x-1)**2)\n",
    "\n",
    "\n",
    "def f4linha(x): \n",
    "    return (-0.5*x+2.5)/2\n",
    "\n",
    "\n",
    "x = np.linspace(0, 5)\n",
    "plt.grid(True)\n",
    "plt.plot(x, f4(x))\n",
    "plt.plot(x, f4linha(x))\n",
    "plt.plot\n",
    "plt.plot(3, 1/2, marker='o')"
   ]
  },
  {
   "cell_type": "code",
   "execution_count": 5,
   "metadata": {},
   "outputs": [
    {
     "data": {
      "text/plain": [
       "[<matplotlib.lines.Line2D at 0x24773fd4c50>]"
      ]
     },
     "execution_count": 5,
     "metadata": {},
     "output_type": "execute_result"
    },
    {
     "data": {
      "image/png": "[encoded data removed]",
      "text/plain": [
       "<Figure size 432x288 with 1 Axes>"
      ]
     },
     "metadata": {},
     "output_type": "display_data"
    }
   ],
   "source": [
    "#Exercicio 5\n",
    "def C(t):\n",
    "    A = 0.1\n",
    "    l = 1/3\n",
    "    return A*t*np.exp(-l*t)\n",
    "plt.grid(True)\n",
    "plt.plot(C(np.arange(0,10,0.1)))"
   ]
  },
  {
   "cell_type": "markdown",
   "metadata": {},
   "source": [
    "Com os pontos criticos de c(T), a derivada dc(t)' = 0 e c(tzero)>c(t).\n",
    "\n",
    "B) Cerca de 14min 50s para c(t)>10mg/ml"
   ]
  },
  {
   "cell_type": "code",
   "execution_count": 41,
   "metadata": {},
   "outputs": [
    {
     "name": "stderr",
     "output_type": "stream",
     "text": [
      "C:\\ProgramData\\Anaconda3\\lib\\site-packages\\ipykernel_launcher.py:3: RuntimeWarning: divide by zero encountered in log\n",
      "  This is separate from the ipykernel package so we can avoid doing imports until\n"
     ]
    },
    {
     "data": {
      "text/plain": [
       "1.0"
      ]
     },
     "execution_count": 41,
     "metadata": {},
     "output_type": "execute_result"
    },
    {
     "data": {
      "image/png": "[encoded data removed]",
      "text/plain": [
       "<Figure size 432x288 with 1 Axes>"
      ]
     },
     "metadata": {},
     "output_type": "display_data"
    }
   ],
   "source": [
    "#Exercicio 6\n",
    "def l(x):\n",
    "    return np.log(x)\n",
    "plt.grid(True)\n",
    "plt.plot(l(np.arange(0,10,0.1)))\n",
    "opt.newton(func=l,x0=1)"
   ]
  },
  {
   "cell_type": "code",
   "execution_count": 12,
   "metadata": {},
   "outputs": [
    {
     "name": "stdout",
     "output_type": "stream",
     "text": [
      "18.920711500272102\n"
     ]
    }
   ],
   "source": [
    "#Exercicio 7\n",
    "#tendo m=c(1+i)**t => i=16**1/16 - 1\n",
    "juro = 16**(1/16)-1\n",
    "print(100*juro)"
   ]
  },
  {
   "cell_type": "code",
   "execution_count": 5,
   "metadata": {},
   "outputs": [
    {
     "data": {
      "text/plain": [
       "2.079441541678989"
      ]
     },
     "execution_count": 5,
     "metadata": {},
     "output_type": "execute_result"
    },
    {
     "data": {
      "image/png": "[encoded data removed]",
      "text/plain": [
       "<Figure size 432x288 with 1 Axes>"
      ]
     },
     "metadata": {},
     "output_type": "display_data"
    }
   ],
   "source": [
    "#exercicio 8\n",
    "def t(t):\n",
    "    return 500 -800*np.exp(-t) + 600*np.exp(-t/3)\n",
    "\n",
    "def fLinha(x):\n",
    "    return 4*np.exp(-x) - np.exp(-x/3)\n",
    "plt.plot(t(np.arange(0,10,0.1)))\n",
    "opt.bisect(fLinha, 0,3)"
   ]
  },
  {
   "cell_type": "markdown",
   "metadata": {},
   "source": [
    "A) Temos que o limite quando t tende ao infinito a  temperatura fica proximo a 500K."
   ]
  },
  {
   "cell_type": "markdown",
   "metadata": {},
   "source": [
    "B) Pelo metodo da bisserção temos que analiticamente o zero da função é 2.0794."
   ]
  },
  {
   "cell_type": "code",
   "execution_count": 21,
   "metadata": {},
   "outputs": [
    {
     "name": "stdout",
     "output_type": "stream",
     "text": [
      "26.11\n"
     ]
    }
   ],
   "source": [
    "#exercicio 8 letra c\n",
    "def func8(f, valor, tol=10e-2,step=0.01):\n",
    "    e =[]\n",
    "    valores = []\n",
    "    erro = np.inf\n",
    "    multx = []\n",
    "    x =1\n",
    "    while(erro>tol):\n",
    "        erro = np.abs(f(x*0.01) - valor)\n",
    "        valores.append(f(x*0.01))\n",
    "        multx.append(x*step)\n",
    "        e.append(erro)\n",
    "        x+=1\n",
    "    return x\n",
    "print (0.01*func8(t,500))"
   ]
  },
  {
   "cell_type": "code",
   "execution_count": 34,
   "metadata": {},
   "outputs": [
    {
     "name": "stdout",
     "output_type": "stream",
     "text": [
      "0.81\n"
     ]
    }
   ],
   "source": [
    "#exercicio 8 letra d\n",
    "#120% de 500\n",
    "y = 500 + 500*(20/100)\n",
    "print(0.01*func8(t,y))"
   ]
  },
  {
   "cell_type": "code",
   "execution_count": 24,
   "metadata": {},
   "outputs": [
    {
     "name": "stdout",
     "output_type": "stream",
     "text": [
      "0.02\n",
      "2498.25726650442\n"
     ]
    },
    {
     "data": {
      "image/png": "[encoded data removed]",
      "text/plain": [
       "<Figure size 432x288 with 1 Axes>"
      ]
     },
     "metadata": {},
     "output_type": "display_data"
    }
   ],
   "source": [
    "#Exercicio 9\n",
    "def c1(x):\n",
    "    return 500 + (0.27*x) + ((4.1*10**(-5))*x**2) + ((2.1*10**(-7))*x**3) + ((4.2*10**(-10))*x**4)\n",
    "def c2(x):\n",
    "    return 1000 + (0.22*x) + ((6.3*10**(-5))*x**2) + ((8.5*10**(-7))*x**3)\n",
    "def tot(x):\n",
    "    return c1(x) + c2(x)\n",
    "\n",
    "def t1500(x):\n",
    "    return x-x + 1500\n",
    "plt.plot(c1(np.arange(0,1000,0.1)))\n",
    "plt.plot(c2(np.arange(0,1000,0.1)))\n",
    "plt.plot(t1500(np.arange(0,1000,0.1)))\n",
    "multx = func8(tot, 1500, tol=10e-3, step=0.01)\n",
    "print(multx*0.01)\n",
    "print(c2(699)+c1(801))"
   ]
  },
  {
   "cell_type": "code",
   "execution_count": 25,
   "metadata": {},
   "outputs": [
    {
     "data": {
      "text/plain": [
       "[<matplotlib.lines.Line2D at 0x7f023866e908>]"
      ]
     },
     "execution_count": 25,
     "metadata": {},
     "output_type": "execute_result"
    },
    {
     "data": {
      "image/png": "[encoded data removed]",
      "text/plain": [
       "<Figure size 432x288 with 1 Axes>"
      ]
     },
     "metadata": {},
     "output_type": "display_data"
    }
   ],
   "source": [
    "#exercicio 10\n",
    "def funcao(x):\n",
    "    return np.exp(-x/11) + x*np.cos(2*x)\n",
    "def funLinha(x):\n",
    "    return -np.exp(-x/11)/11 + np.cos(2*x) - 2*x*np.sin(2*x)\n",
    "plt.grid(True)\n",
    "plt.plot(funcao(np.arange(0,10,0.1)))\n",
    "plt.plot(funLinha(np.arange(0,10,0.1)))\n"
   ]
  },
  {
   "cell_type": "code",
   "execution_count": 29,
   "metadata": {},
   "outputs": [
    {
     "name": "stdout",
     "output_type": "stream",
     "text": [
      "1.72285750577139\n",
      "4.767707583359152\n",
      "7.88704085487552\n"
     ]
    },
    {
     "data": {
      "text/html": [
       "<div>\n",
       "<style scoped>\n",
       "    .dataframe tbody tr th:only-of-type {\n",
       "        vertical-align: middle;\n",
       "    }\n",
       "\n",
       "    .dataframe tbody tr th {\n",
       "        vertical-align: top;\n",
       "    }\n",
       "\n",
       "    .dataframe thead th {\n",
       "        text-align: right;\n",
       "    }\n",
       "</style>\n",
       "<table border=\"1\" class=\"dataframe\">\n",
       "  <thead>\n",
       "    <tr style=\"text-align: right;\">\n",
       "      <th></th>\n",
       "      <th>xi</th>\n",
       "      <th>e</th>\n",
       "    </tr>\n",
       "  </thead>\n",
       "  <tbody>\n",
       "    <tr>\n",
       "      <th>0</th>\n",
       "      <td>1.0963418691757494</td>\n",
       "      <td>3.560621226441981</td>\n",
       "    </tr>\n",
       "    <tr>\n",
       "      <th>1</th>\n",
       "      <td>1.3681166556591755</td>\n",
       "      <td>0.19864883989185972</td>\n",
       "    </tr>\n",
       "    <tr>\n",
       "      <th>2</th>\n",
       "      <td>1.2093733006531446</td>\n",
       "      <td>0.1312608397426159</td>\n",
       "    </tr>\n",
       "    <tr>\n",
       "      <th>3</th>\n",
       "      <td>1.2045405616829592</td>\n",
       "      <td>0.004012101479947867</td>\n",
       "    </tr>\n",
       "    <tr>\n",
       "      <th>4</th>\n",
       "      <td>1.2048307865285053</td>\n",
       "      <td>0.0002408843206790157</td>\n",
       "    </tr>\n",
       "    <tr>\n",
       "      <th>5</th>\n",
       "      <td>1.2048305318864294</td>\n",
       "      <td>2.1135094864427398e-07</td>\n",
       "    </tr>\n",
       "    <tr>\n",
       "      <th>6</th>\n",
       "      <td>1.2048305318725194</td>\n",
       "      <td>1.1545179099927036e-11</td>\n",
       "    </tr>\n",
       "  </tbody>\n",
       "</table>\n",
       "</div>"
      ],
      "text/plain": [
       "                   xi                       e\n",
       "0  1.0963418691757494       3.560621226441981\n",
       "1  1.3681166556591755     0.19864883989185972\n",
       "2  1.2093733006531446      0.1312608397426159\n",
       "3  1.2045405616829592    0.004012101479947867\n",
       "4  1.2048307865285053   0.0002408843206790157\n",
       "5  1.2048305318864294  2.1135094864427398e-07\n",
       "6  1.2048305318725194  1.1545179099927036e-11"
      ]
     },
     "execution_count": 29,
     "metadata": {},
     "output_type": "execute_result"
    }
   ],
   "source": [
    "_, x1, e = met_secante(funcao,5)\n",
    "print(opt.bisect(funLinha,1,1.8))\n",
    "print(opt.bisect(funLinha,4.7,4.8))\n",
    "print(opt.bisect(funLinha,7.8,7.9))\n",
    "pd.DataFrame({'xi':x1,'e':e},dtype=str)"
   ]
  },
  {
   "cell_type": "code",
   "execution_count": null,
   "metadata": {},
   "outputs": [],
   "source": []
  }
 ],
 "metadata": {
  "kernelspec": {
   "display_name": "Python 3",
   "language": "python",
   "name": "python3"
  },
  "language_info": {
   "codemirror_mode": {
    "name": "ipython",
    "version": 3
   },
   "file_extension": ".py",
   "mimetype": "text/x-python",
   "name": "python",
   "nbconvert_exporter": "python",
   "pygments_lexer": "ipython3",
   "version": "3.6.5"
  }
 },
 "nbformat": 4,
 "nbformat_minor": 2
}
