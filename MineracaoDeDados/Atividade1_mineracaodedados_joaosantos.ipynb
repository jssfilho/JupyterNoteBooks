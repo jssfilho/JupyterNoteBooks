{
 "cells": [
  {
   "cell_type": "markdown",
   "metadata": {},
   "source": [
    "##### Atividade 1 - Mineração de Dados\n",
    "##### João Santos de Sousa Filho"
   ]
  },
  {
   "cell_type": "code",
   "execution_count": 68,
   "metadata": {},
   "outputs": [],
   "source": [
    "from sklearn import datasets\n",
    "import pandas as pd\n",
    "import matplotlib .pyplot as plt\n",
    "import seaborn as sns\n",
    "%matplotlib inline"
   ]
  },
  {
   "cell_type": "markdown",
   "metadata": {},
   "source": [
    "#### Introdução"
   ]
  },
  {
   "cell_type": "code",
   "execution_count": 69,
   "metadata": {},
   "outputs": [],
   "source": [
    "dados = datasets.load_iris()\n",
    "df_iris = pd.DataFrame (dados['data'], columns=dados['feature_names'])\n",
    "df_iris['species'] = dados['target']"
   ]
  },
  {
   "cell_type": "code",
   "execution_count": 70,
   "metadata": {},
   "outputs": [
    {
     "data": {
      "text/plain": [
       "<seaborn.axisgrid.FacetGrid at 0x1bb602ca198>"
      ]
     },
     "execution_count": 70,
     "metadata": {},
     "output_type": "execute_result"
    },
    {
     "data": {
      "image/png": "[encoded data removed]",
      "text/plain": [
       "<Figure size 405.375x360 with 1 Axes>"
      ]
     },
     "metadata": {
      "needs_background": "light"
     },
     "output_type": "display_data"
    }
   ],
   "source": [
    "sns.lmplot( x= 'sepal length (cm)', y= 'sepal width (cm)',\n",
    "data=df_iris, fit_reg=False, hue= 'species', legend=True)"
   ]
  },
  {
   "cell_type": "markdown",
   "metadata": {},
   "source": [
    "### Questão 1"
   ]
  },
  {
   "cell_type": "code",
   "execution_count": 71,
   "metadata": {},
   "outputs": [],
   "source": [
    "#retirando o target do conjunto de dados\n",
    "X_iris = df_iris.drop('species',axis=1)"
   ]
  },
  {
   "cell_type": "code",
   "execution_count": 72,
   "metadata": {},
   "outputs": [],
   "source": [
    "#gerando a tabela dos valores de classficação\n",
    "y_iris = df_iris['species'].values"
   ]
  },
  {
   "cell_type": "code",
   "execution_count": 73,
   "metadata": {},
   "outputs": [],
   "source": [
    "#importando o classificador\n",
    "from sklearn.neighbors import KNeighborsClassifier\n",
    "\n",
    "from sklearn.model_selection import train_test_split"
   ]
  },
  {
   "cell_type": "code",
   "execution_count": 74,
   "metadata": {},
   "outputs": [
    {
     "data": {
      "text/plain": [
       "KNeighborsClassifier(algorithm='auto', leaf_size=30, metric='minkowski',\n",
       "           metric_params=None, n_jobs=None, n_neighbors=3, p=2,\n",
       "           weights='uniform')"
      ]
     },
     "execution_count": 74,
     "metadata": {},
     "output_type": "execute_result"
    }
   ],
   "source": [
    "knn_iris = KNeighborsClassifier(n_neighbors = 3)\n",
    "\n",
    "#Separando um conjunto para treinamento e outro para testes\n",
    "X_train_iris, X_test_iris, y_train_iris, y_test_iris = train_test_split(X_iris, y_iris, test_size = 0.2, random_state = 1, stratify = y_iris)\n",
    "\n",
    "#treino\n",
    "knn_iris.fit(X_train_iris,y_train_iris)"
   ]
  },
  {
   "cell_type": "code",
   "execution_count": 75,
   "metadata": {},
   "outputs": [
    {
     "data": {
      "text/plain": [
       "array([2, 0, 1, 0, 0, 0, 2, 2, 2, 1, 0, 1, 2, 1, 2, 0, 2, 1, 1, 2, 1, 1,\n",
       "       0, 0, 2, 1, 0, 0, 1, 1])"
      ]
     },
     "execution_count": 75,
     "metadata": {},
     "output_type": "execute_result"
    }
   ],
   "source": [
    "#predizendo os resultados(dos testes) com base no trainamento\n",
    "knn_iris.predict(X_test_iris)"
   ]
  },
  {
   "cell_type": "code",
   "execution_count": 76,
   "metadata": {},
   "outputs": [
    {
     "data": {
      "text/plain": [
       "0.9666666666666667"
      ]
     },
     "execution_count": 76,
     "metadata": {},
     "output_type": "execute_result"
    }
   ],
   "source": [
    "#medindo o acuracia de 0 a 1\n",
    "knn_iris.score(X_test_iris,y_test_iris)"
   ]
  },
  {
   "cell_type": "markdown",
   "metadata": {},
   "source": [
    "### Questão 2"
   ]
  },
  {
   "cell_type": "markdown",
   "metadata": {},
   "source": [
    "<p>Abaixo, os dados são armazenados em df_crx em seguida retiramos uma instancia positiva('+') para teste futuro. Após isso salvamos os valores da classificação e retiramos da tabela.</p>"
   ]
  },
  {
   "cell_type": "code",
   "execution_count": 82,
   "metadata": {},
   "outputs": [],
   "source": [
    "#pegando base de dados\n",
    "df_crx = pd.read_table('http://archive.ics.uci.edu/ml/machine-learning-databases/credit-screening/crx.data',sep=',')\n",
    "\n",
    "#solução do erro de tipos: mapeando os valores 'object' para valores numericos\n",
    "#o valor + ficou como 0 \n",
    "\n",
    "from sklearn import preprocessing\n",
    "for column in df_crx:\n",
    "    if (df_crx[column].dtype == type(object)):\n",
    "        le = preprocessing.LabelEncoder()\n",
    "        df_crx[column] = le.fit_transform(df_crx[column])\n",
    "        \n"
   ]
  },
  {
   "cell_type": "markdown",
   "metadata": {},
   "source": [
    "<p>Com os valores tratados, comerçamos os a separação dos dados e treinamento</p>"
   ]
  },
  {
   "cell_type": "code",
   "execution_count": 83,
   "metadata": {},
   "outputs": [],
   "source": [
    "#instancia 689 retirada para teste, classe negativa (1)\n",
    "XT = df_crx.drop('+',axis=1).loc[688]\n",
    "\n",
    "#retirando a instancia de teste\n",
    "X_crx = df_crx.drop(688,axis=0)\n",
    "\n",
    "#seperando os valores\n",
    "y_crx = X_crx['+'].values\n",
    "X_crx = X_crx.drop('+',axis=1)"
   ]
  },
  {
   "cell_type": "markdown",
   "metadata": {},
   "source": [
    "##### Abaixo segue a separação de valores para teste(alem do valor individual que foi separado acima) e treino."
   ]
  },
  {
   "cell_type": "code",
   "execution_count": 102,
   "metadata": {},
   "outputs": [
    {
     "data": {
      "text/plain": [
       "KNeighborsClassifier(algorithm='auto', leaf_size=30, metric='minkowski',\n",
       "           metric_params=None, n_jobs=None, n_neighbors=13, p=2,\n",
       "           weights='uniform')"
      ]
     },
     "execution_count": 102,
     "metadata": {},
     "output_type": "execute_result"
    }
   ],
   "source": [
    "knn_crx = KNeighborsClassifier(n_neighbors = 13)\n",
    "\n",
    "#Separando um conjunto para treinamento e outro para testes\n",
    "X_train_crx, X_test_crx, y_train_crx, y_test_crx = train_test_split(X_crx, y_crx, test_size = 0.2, random_state = 1, stratify = y_crx)\n",
    "\n",
    "#treino\n",
    "knn_crx.fit(X_train_crx,y_train_crx)"
   ]
  },
  {
   "cell_type": "markdown",
   "metadata": {},
   "source": [
    "<p>Considerando o array XT para teste de predição, temos que transforma-lo em um array 2D visto que é a entrada do metodo predict().</p>"
   ]
  },
  {
   "cell_type": "code",
   "execution_count": 103,
   "metadata": {},
   "outputs": [
    {
     "data": {
      "text/plain": [
       "array([1])"
      ]
     },
     "execution_count": 103,
     "metadata": {},
     "output_type": "execute_result"
    }
   ],
   "source": [
    "import numpy as np\n",
    "exemple_unique = np.array(XT)\n",
    "exemple_unique = exemple_unique.reshape(1,-1)\n",
    "\n",
    "knn_crx.predict(exemple_unique)"
   ]
  },
  {
   "cell_type": "code",
   "execution_count": 104,
   "metadata": {},
   "outputs": [
    {
     "name": "stdout",
     "output_type": "stream",
     "text": [
      "Acurácia: 68.12%\n"
     ]
    }
   ],
   "source": [
    "acuracia = knn_crx.score(X_test_crx,y_test_crx)*100\n",
    "print(\"Acurácia: {0:.2f}%\".format(acuracia))"
   ]
  },
  {
   "cell_type": "markdown",
   "metadata": {},
   "source": [
    "<p>Verificamos que a predição aceitou o exemplo unico que resultou no valor 1, equivalente a negativo e a acurácia foi de 68.12%</p>"
   ]
  }
 ],
 "metadata": {
  "kernelspec": {
   "display_name": "Python 3",
   "language": "python",
   "name": "python3"
  },
  "language_info": {
   "codemirror_mode": {
    "name": "ipython",
    "version": 3
   },
   "file_extension": ".py",
   "mimetype": "text/x-python",
   "name": "python",
   "nbconvert_exporter": "python",
   "pygments_lexer": "ipython3",
   "version": "3.7.1"
  }
 },
 "nbformat": 4,
 "nbformat_minor": 2
}
