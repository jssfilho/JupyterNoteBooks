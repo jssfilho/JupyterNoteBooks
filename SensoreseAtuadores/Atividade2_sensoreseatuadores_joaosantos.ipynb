{
 "cells": [
  {
   "cell_type": "markdown",
   "metadata": {},
   "source": [
    "#### João Santos de Sousa Filho\n",
    "#### Atividade 2 - Sensores e Atuadores - Ajuste de Curva"
   ]
  },
  {
   "cell_type": "code",
   "execution_count": 10,
   "metadata": {},
   "outputs": [],
   "source": [
    "import matplotlib.pyplot as plt\n",
    "import numpy as np"
   ]
  },
  {
   "cell_type": "markdown",
   "metadata": {},
   "source": [
    "#### Verificando a resposta manual da questão 1"
   ]
  },
  {
   "cell_type": "code",
   "execution_count": 11,
   "metadata": {},
   "outputs": [
    {
     "name": "stdout",
     "output_type": "stream",
     "text": [
      "a:  2.011000000797189\n",
      "b:  2.9929999978713058\n"
     ]
    }
   ],
   "source": [
    "from scipy.optimize import curve_fit\n",
    "def func(x, a, b):\n",
    "    return a*x + b\n",
    "\n",
    "x = np.array([1, 2, 3, 4, 5])\n",
    "y = np.array([4.8, 7.15, 9.2, 11.1,12.88])\n",
    "\n",
    "def fit_func(x, a, b):\n",
    "    return a*x + b\n",
    "\n",
    "params = curve_fit(fit_func, x, y)\n",
    "\n",
    "[a, b] = params[0]\n",
    "print(\"a: \",a)\n",
    "print(\"b: \",b)"
   ]
  },
  {
   "cell_type": "code",
   "execution_count": 12,
   "metadata": {},
   "outputs": [
    {
     "data": {
      "text/plain": [
       "[<matplotlib.lines.Line2D at 0x2d69b35ce10>]"
      ]
     },
     "execution_count": 12,
     "metadata": {},
     "output_type": "execute_result"
    },
    {
     "data": {
      "image/png": "[encoded data removed]",
      "text/plain": [
       "<Figure size 432x288 with 1 Axes>"
      ]
     },
     "metadata": {
      "needs_background": "light"
     },
     "output_type": "display_data"
    }
   ],
   "source": [
    "def grafic_1(x):\n",
    "    return 2.011*x + 2.993\n",
    "plt.plot(x,grafic_1(x))"
   ]
  },
  {
   "cell_type": "markdown",
   "metadata": {},
   "source": [
    "<p>Acima vemos o grafico referente a questão 1 gerados a partir dos coeficientes encontrados</p>"
   ]
  },
  {
   "cell_type": "markdown",
   "metadata": {},
   "source": [
    "#### Questão 2"
   ]
  },
  {
   "cell_type": "code",
   "execution_count": 13,
   "metadata": {},
   "outputs": [],
   "source": [
    "#dados iniciais\n",
    "x = np.array([1,2,3,4,5,6,7,8,9,10]) \n",
    "y = np.array([26.1,27.0,28.2,29.0,29.8,30.6,31.1,31.3,31.0,30.5]) \n",
    "\n",
    "#ajuste de curva de ordem 1, 2 e 3 respectivamente\n",
    "coeff_1 = np.polyfit(x,y,1)  \n",
    "coeff_2 = np.polyfit(x,y,2)  \n",
    "coeff_3 = np.polyfit(x,y,3) "
   ]
  },
  {
   "cell_type": "code",
   "execution_count": 14,
   "metadata": {},
   "outputs": [],
   "source": [
    "# Cálculo dos coeficientes de determinação dos polinômios de ordem 2\n",
    "Tp_2 = coeff_2[0] * pow(x,2) + coeff_2[1] * x + coeff_2[2] \n",
    "y_2 = y - Tp_2 \n",
    "J_2 = sum(pow(y_2,2)) \n",
    "S_2 = len(y) * np.var(y)\n",
    "#calculo da precisão de ordem 2\n",
    "R2_2 = 1 - J_2/S_2 "
   ]
  },
  {
   "cell_type": "code",
   "execution_count": 15,
   "metadata": {},
   "outputs": [],
   "source": [
    "# Cálculo dos coeficientes de determinação dos polinômios de ordem 3\n",
    "Tp_3 = coeff_3[0] * pow(x,3) + coeff_3[1] * pow(x,2) + coeff_3[2] * x + coeff_3[3] \n",
    "y_3 = y - Tp_3 \n",
    "J_3 = sum(pow(y_3,2)) \n",
    "S_3 = len(y) * np.var(y)\n",
    "#calculo da precisão de ordem 3\n",
    "R2_3 = 1 - J_3/S_3"
   ]
  },
  {
   "cell_type": "code",
   "execution_count": 16,
   "metadata": {},
   "outputs": [
    {
     "name": "stdout",
     "output_type": "stream",
     "text": [
      "Polinômio de ordem 2\n",
      "Coeficientes [-0.09772727  1.62166667 24.30333333] R2 = 0.9871491137945066\n",
      "Polinômio de ordem 3\n",
      "Coeficientes [-1.05672106e-02  7.66317016e-02  8.17501943e-01  2.52100000e+01] R2 = 0.9986141368271404\n"
     ]
    },
    {
     "data": {
      "image/png": "[encoded data removed]",
      "text/plain": [
       "<Figure size 432x288 with 1 Axes>"
      ]
     },
     "metadata": {
      "needs_background": "light"
     },
     "output_type": "display_data"
    }
   ],
   "source": [
    "\n",
    "\n",
    "print('Polinômio de ordem 2')\n",
    "print('Coeficientes',coeff_2,'R2 =',R2_2) \n",
    "print('Polinômio de ordem 3')\n",
    "print('Coeficientes',coeff_3,'R2 =',R2_3) \n",
    "\n",
    "\n",
    "plt.plot(x,y,'o')\n",
    "plt.plot(x,np.polyval(coeff_1,x),'g-')\n",
    "plt.plot(x,np.polyval(coeff_2,x),'b--')\n",
    "plt.plot(x,np.polyval(coeff_3,x),'r:')\n",
    "plt.xlabel(\"x\")\n",
    "plt.ylabel(\"y\")\n",
    "plt.show()\n"
   ]
  },
  {
   "cell_type": "markdown",
   "metadata": {},
   "source": [
    "#### Questão 2 letra b\n",
    "<p>Pedizer valor no tempo 11s</p>"
   ]
  },
  {
   "cell_type": "code",
   "execution_count": 17,
   "metadata": {},
   "outputs": [],
   "source": [
    "def pressao(tempo, coeff_3):\n",
    "    return coeff_3[0]*pow(tempo,3) + coeff_3[1]*pow(tempo,2) + coeff_3[2]*tempo + coeff_3[3]"
   ]
  },
  {
   "cell_type": "code",
   "execution_count": 18,
   "metadata": {},
   "outputs": [
    {
     "name": "stdout",
     "output_type": "stream",
     "text": [
      "Pressão no tempo 11s:  29.409999999999997\n"
     ]
    }
   ],
   "source": [
    "print(\"Pressão no tempo 11s: \", pressao(11,coeff_3))"
   ]
  },
  {
   "cell_type": "code",
   "execution_count": null,
   "metadata": {},
   "outputs": [],
   "source": []
  }
 ],
 "metadata": {
  "kernelspec": {
   "display_name": "Python 3",
   "language": "python",
   "name": "python3"
  },
  "language_info": {
   "codemirror_mode": {
    "name": "ipython",
    "version": 3
   },
   "file_extension": ".py",
   "mimetype": "text/x-python",
   "name": "python",
   "nbconvert_exporter": "python",
   "pygments_lexer": "ipython3",
   "version": "3.7.1"
  }
 },
 "nbformat": 4,
 "nbformat_minor": 2
}
