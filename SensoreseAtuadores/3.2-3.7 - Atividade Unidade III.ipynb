{
 "cells": [
  {
   "cell_type": "code",
   "execution_count": 14,
   "metadata": {},
   "outputs": [],
   "source": [
    "import numpy as np\n",
    "import matplotlib.pyplot as plt\n",
    "%matplotlib inline"
   ]
  },
  {
   "cell_type": "markdown",
   "metadata": {},
   "source": [
    "### Aluno: João Santos de Sousa Filho\n",
    "\n",
    "## Questão 2 - 3.3/3.4/3.5 - Sensores/Elementos Finais de Controle\n",
    "\n",
    "### Resposta\n",
    "\n",
    "\n",
    "<p>Usaremos a seguinte formula:</p>\n",
    "\n",
    "\n",
    "$$A_f = \\frac{A}{1 + A \\beta}$$\n",
    "<p>Onde</p>\n",
    "$$\\beta = 0.1 ~ e ~ A = 100$$"
   ]
  },
  {
   "cell_type": "code",
   "execution_count": 15,
   "metadata": {},
   "outputs": [],
   "source": [
    "def ganho(a,beta):\n",
    "    return a/(1+a*beta)"
   ]
  },
  {
   "cell_type": "code",
   "execution_count": 16,
   "metadata": {},
   "outputs": [
    {
     "data": {
      "image/png": "[encoded data removed]",
      "text/plain": [
       "<Figure size 432x288 with 1 Axes>"
      ]
     },
     "metadata": {
      "needs_background": "light"
     },
     "output_type": "display_data"
    }
   ],
   "source": [
    "a = np.arange(0, 1000, 1)\n",
    "af = ganho(a,0.1)\n",
    " \n",
    "plt.plot(a, af)\n",
    "\n",
    "plt.title('ganho em malha fechada em função a malha aberta')\n",
    "plt.xlabel('A')\n",
    "plt.ylabel('Af')\n",
    "plt.show()\n"
   ]
  },
  {
   "cell_type": "code",
   "execution_count": 13,
   "metadata": {},
   "outputs": [
    {
     "name": "stdout",
     "output_type": "stream",
     "text": [
      "Ganho com A = 100 e Beta = 0.1:  9.090909090909092\n"
     ]
    }
   ],
   "source": [
    "print(\"Ganho com A = 100 e Beta = 0.1: \", ganho(100,0.1))"
   ]
  }
 ],
 "metadata": {
  "kernelspec": {
   "display_name": "Python 3",
   "language": "python",
   "name": "python3"
  },
  "language_info": {
   "codemirror_mode": {
    "name": "ipython",
    "version": 3
   },
   "file_extension": ".py",
   "mimetype": "text/x-python",
   "name": "python",
   "nbconvert_exporter": "python",
   "pygments_lexer": "ipython3",
   "version": "3.7.1"
  }
 },
 "nbformat": 4,
 "nbformat_minor": 2
}
