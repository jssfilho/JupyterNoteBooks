{
 "cells": [
  {
   "cell_type": "markdown",
   "metadata": {},
   "source": [
    "### João Santos de Sousa FIlho\n",
    "#### Atividade 1 - Sensores e Atuadores"
   ]
  },
  {
   "cell_type": "markdown",
   "metadata": {},
   "source": [
    "#### Questão 1 - \n",
    "<p>A precisão esta relacionada a distancia entre os valores medidos ex: uma balança mede 3 valores, 100g, 101g, 99g, a balança esta precisa, mas não quer dizer que ela esteja exata, que faz referência a proximidade entre o valor medido e o valor real.</p>"
   ]
  },
  {
   "cell_type": "markdown",
   "metadata": {},
   "source": [
    "#### Questão 2 - \n",
    "<p>O Desvio Padrão indica o quanto um conjunto de dados é uniforme, e quanto mais proximo de zero, mais homogênios são os dados.</p>"
   ]
  },
  {
   "cell_type": "code",
   "execution_count": 22,
   "metadata": {},
   "outputs": [],
   "source": [
    "import numpy as np\n",
    "        "
   ]
  },
  {
   "cell_type": "markdown",
   "metadata": {},
   "source": [
    "#### Questão 3 letra a)"
   ]
  },
  {
   "cell_type": "code",
   "execution_count": 9,
   "metadata": {},
   "outputs": [],
   "source": [
    "pressao_gas = [0.87,0.93,1.02,1.04,0.99,0.94,1,0.9,1.01,0.96]\n",
    "temp_gas = [299,306,301,298,300,302,302,304,301,297]\n",
    "def medidas(array):\n",
    "    soma = 0\n",
    "    for i in array:\n",
    "        soma+=i\n",
    "    media = soma/len(array)\n",
    "    soma_desvio=0\n",
    "    for j in array:\n",
    "        soma_desvio+=np.square((j - media))\n",
    "    desvio_padrao = np.sqrt(soma_desvio)\n",
    "    \n",
    "    return [media, desvio_padrao]\n",
    "        "
   ]
  },
  {
   "cell_type": "code",
   "execution_count": 10,
   "metadata": {},
   "outputs": [
    {
     "data": {
      "text/plain": [
       "[0.966, 0.16625281952496326]"
      ]
     },
     "execution_count": 10,
     "metadata": {},
     "output_type": "execute_result"
    }
   ],
   "source": [
    "medidas(pressao_gas)\n"
   ]
  },
  {
   "cell_type": "code",
   "execution_count": 11,
   "metadata": {},
   "outputs": [
    {
     "data": {
      "text/plain": [
       "[301.0, 8.12403840463596]"
      ]
     },
     "execution_count": 11,
     "metadata": {},
     "output_type": "execute_result"
    }
   ],
   "source": [
    "medidas(temp_gas)"
   ]
  },
  {
   "cell_type": "markdown",
   "metadata": {},
   "source": [
    "##### a função acima realizou o calculo da media e  desvio padrão das 10 medidas.\n",
    "##### sendo a Pressão = (0,97 +- 0,17) atm\n",
    "##### e a Temperatura = (301+- 8,12)° K "
   ]
  },
  {
   "cell_type": "markdown",
   "metadata": {},
   "source": [
    "#### Questão 3 - letra b)"
   ]
  },
  {
   "cell_type": "code",
   "execution_count": 25,
   "metadata": {},
   "outputs": [],
   "source": [
    "def calc_vol(pressao, temperatura, num_mols):\n",
    "    array_vol = []\n",
    "    if (len(pressao)!=len(temperatura)):\n",
    "        return 0\n",
    "    else:\n",
    "        for i in range(len(pressao)):\n",
    "            v = (0.082*temperatura[i])/pressao[i]\n",
    "            array_vol.append(v)\n",
    "        return array_vol"
   ]
  },
  {
   "cell_type": "code",
   "execution_count": 26,
   "metadata": {},
   "outputs": [
    {
     "data": {
      "text/plain": [
       "[28.1816091954023,\n",
       " 26.980645161290322,\n",
       " 24.198039215686276,\n",
       " 23.496153846153845,\n",
       " 24.84848484848485,\n",
       " 26.34468085106383,\n",
       " 24.764,\n",
       " 27.697777777777777,\n",
       " 24.43762376237624,\n",
       " 25.368750000000002]"
      ]
     },
     "execution_count": 26,
     "metadata": {},
     "output_type": "execute_result"
    }
   ],
   "source": [
    "calc_vol(pressao_gas,temp_gas,1)"
   ]
  },
  {
   "cell_type": "markdown",
   "metadata": {},
   "source": [
    "##### acima vemos os valores de volume do gás para cada medida de pressão e temperatura(em ordem). Em seguida, com a função \"medidas()\" obteremos a media e o desvio padrão."
   ]
  },
  {
   "cell_type": "code",
   "execution_count": 27,
   "metadata": {},
   "outputs": [
    {
     "data": {
      "text/plain": [
       "[25.631776465823542, 4.751414486162323]"
      ]
     },
     "execution_count": 27,
     "metadata": {},
     "output_type": "execute_result"
    }
   ],
   "source": [
    "volumes = calc_vol(pressao_gas,temp_gas,1)\n",
    "medidas(volumes)"
   ]
  },
  {
   "cell_type": "markdown",
   "metadata": {},
   "source": [
    "##### Volume do Gás  = (25,6 +- 4,7) L"
   ]
  }
 ],
 "metadata": {
  "kernelspec": {
   "display_name": "Python 3",
   "language": "python",
   "name": "python3"
  },
  "language_info": {
   "codemirror_mode": {
    "name": "ipython",
    "version": 3
   },
   "file_extension": ".py",
   "mimetype": "text/x-python",
   "name": "python",
   "nbconvert_exporter": "python",
   "pygments_lexer": "ipython3",
   "version": "3.7.1"
  }
 },
 "nbformat": 4,
 "nbformat_minor": 2
}
